{
 "cells": [
  {
   "cell_type": "markdown",
   "metadata": {},
   "source": [
    "# Steven Smiley's Kaggle Competition for the Titanic Dataset Notebook:\n",
    "* ## Data Cleaning, Data Exploring, Feature Extraction\n",
    "* ## Machine Learning, Supervised \n",
    "* ### Random Forest, Neural Networks, Logistic Regression, Support Vector Machine, Gradient Boosting, eXtreme Gradient Boosting\n",
    "    \"\"\"\n",
    "    Created on Fri Dec 27 20:58:05 2019\n",
    "\n",
    "    @author: stevensmiley\n",
    "\n",
    "    Kaggle Competition Project Description: \n",
    "\n",
    "       This code by Steven Smiley is for\n",
    "       evaluating the \"Titanic: Machine Learning from Disaster\" dataset from Kaggle.\n",
    "\n",
    "       Two datasets were given for the competition:\n",
    "       1) test.csv\n",
    "       2) train.csv\n",
    "\n",
    "       The \"train.csv\" dataset is used to create a model \n",
    "       to predict Survival Rate with the \"test.csv\" dataset."
   ]
  },
  {
   "cell_type": "markdown",
   "metadata": {},
   "source": [
    "# Table of Contents (TOC)"
   ]
  },
  {
   "cell_type": "markdown",
   "metadata": {},
   "source": [
    "* [1: Import Libraries](#Code_Objective_1)\n",
    "* [2: Get Current Directory](#Code_Objective_2)\n",
    "* [3: Import and View Data:](#Code_Objective_3)\n",
    "* [4: Explore Data, Clean Data, & Feature Extraction:](#Code_Objective_4)\n",
    "    * [4.0:  Explore Data:](#Code_Objective_4.0)\n",
    "        * [4.0.0: Copy Data](#Code_Objective_4.0.0)\n",
    "        * [4.0.1: Find Missing Values](#Code_Objective_4.0.1)\n",
    "        * [4.0.2: Explore Data: Fix Missing Values](#Code_Objective_4.0.2)\n",
    "           * [4.0.2.1: Age](#Code_Objective_4.0.2.1)\n",
    "           * [4.0.2.2: Cabin](#Code_Objective_4.0.2.2)\n",
    "           * [4.0.2.3: Age](#Code_Objective_4.0.2.1)\n",
    "           * [4.0.2.4: Cabin](#Code_Objective_4.0.2.2)\n",
    "    * [4.1:  Clean Data:](#Code_Objective_4.1)\n",
    "        * [4.1.0:  Change Name to Prefix:](#Code_Objective_4.1.0)\n",
    "        * [4.1.1:  Convert Categorical Variables to Continuous:](#Code_Objective_4.1.1)\n",
    "           * [4.1.1.1: Embarked, Sex, Name:](#Code_Objective_4.1.1.1)\n",
    "           * [4.1.2.1: Ticket:](#Code_Objective_4.1.2.1)\n",
    "        * [4.2.0:  Drop:  PassengerId, Embarked, Parch, SibSp](#Code_Objective_4.2.0)\n",
    "        * [4.3.0:  Principal Component Analysis:](#Code_Objective_4.3.0)\n",
    "* [5:  Machine Learning:](#Code_Objective_5)\n",
    "    * [5.0:  Training Data Split:](#Code_Objective_5.0)\n",
    "    * [5.1:  Models:](#Code_Objective_5.1)            \n",
    "        * [5.1.1:  Logistic Regression Model](#Code_Objective_5.1.1)\n",
    "        * [5.1.2:  SVM Model](#Code_Objective_5.1.2)\n",
    "        * [5.1.3:  MLP Model](#Code_Objective_5.1.3)\n",
    "        * [5.1.4:  RF Model](#Code_Objective_5.1.4)\n",
    "        * [5.1.5:  GB Model](#Code_Objective_5.1.5)\n",
    "        * [5.1.6:  XGB Model](#Code_Objective_5.1.6)\n",
    "    * [5.2:  Evaluate Models](#Code_Objective_5.2)\n",
    "    * [5.3:  Predict with Best Model](#Code_Objective_5.3)\n",
    "* [6: Export Results for Kaggle Competition](#Code_Objective_6) \n",
    "                        "
   ]
  },
  {
   "cell_type": "markdown",
   "metadata": {},
   "source": [
    "# Code_Objective_1\n",
    "# 1: Import Libraries"
   ]
  },
  {
   "cell_type": "code",
   "execution_count": 1,
   "metadata": {
    "_cell_guid": "79c7e3d0-c299-4dcb-8224-4455121ee9b0",
    "_uuid": "d629ff2d2480ee46fbb7e2d37f6b5fab8052498a"
   },
   "outputs": [],
   "source": [
    "import warnings\n",
    "import os # Get Current Directory\n",
    "from sklearn.model_selection import train_test_split\n",
    "from sklearn.model_selection import GridSearchCV\n",
    "from sklearn.metrics import accuracy_score, precision_score, recall_score\n",
    "import pandas as pd # data processing, CSV file I/O (e.i. pd.read_csv)\n",
    "import numpy as np\n",
    "import matplotlib.pyplot as plt\n",
    "import seaborn as sns\n",
    "import joblib\n",
    "from time import time\n",
    "from sklearn.linear_model import LogisticRegression\n",
    "from sklearn.svm import SVC\n",
    "from sklearn.neural_network import MLPClassifier\n",
    "from sklearn.ensemble import RandomForestClassifier\n",
    "from sklearn.ensemble import GradientBoostingClassifier\n",
    "from xgboost import XGBClassifier\n",
    "from sklearn.decomposition import PCA\n",
    "from scipy import stats\n",
    "import subprocess\n",
    "from sklearn.metrics import classification_report, confusion_matrix, accuracy_score\n",
    "from sklearn.metrics import plot_roc_curve\n",
    "from sklearn.utils.multiclass import unique_labels\n",
    "import itertools\n",
    "import math\n",
    "from sklearn.preprocessing import StandardScaler\n",
    "from sklearn.preprocessing import LabelEncoder\n",
    "from sklearn.preprocessing import OneHotEncoder"
   ]
  },
  {
   "cell_type": "markdown",
   "metadata": {},
   "source": [
    "## Hide Warnings"
   ]
  },
  {
   "cell_type": "code",
   "execution_count": 2,
   "metadata": {},
   "outputs": [],
   "source": [
    "warnings.filterwarnings(\"ignore\")\n",
    "pd.set_option('mode.chained_assignment', None)"
   ]
  },
  {
   "cell_type": "markdown",
   "metadata": {},
   "source": [
    "# Code_Objective_2\n",
    "# 2: Get Current Directory"
   ]
  },
  {
   "cell_type": "code",
   "execution_count": 3,
   "metadata": {},
   "outputs": [],
   "source": [
    "currentDirectory=os.getcwd()"
   ]
  },
  {
   "cell_type": "markdown",
   "metadata": {},
   "source": [
    "## Make Directories for Output Files"
   ]
  },
  {
   "cell_type": "markdown",
   "metadata": {},
   "source": [
    "#### Function: folder_path"
   ]
  },
  {
   "cell_type": "code",
   "execution_count": 4,
   "metadata": {},
   "outputs": [],
   "source": [
    "def folder_path(path):\n",
    "    try:\n",
    "        os.mkdir(path)\n",
    "    except OSError:\n",
    "        print (\"Creation of the directory %s failed\" % path)\n",
    "        return(path)\n",
    "    else:\n",
    "        print (\"Successfully created the directory %s \" % path)\n",
    "        return(path)\n",
    "    return(path)"
   ]
  },
  {
   "cell_type": "code",
   "execution_count": 5,
   "metadata": {},
   "outputs": [
    {
     "name": "stdout",
     "output_type": "stream",
     "text": [
      "Creation of the directory /Users/stevensmiley/Documents/GitHub/Kaggle-Titanic/Jupyter/Outputs failed\n",
      "Creation of the directory /Users/stevensmiley/Documents/GitHub/Kaggle-Titanic/Jupyter/Outputs/Models failed\n",
      "Creation of the directory /Users/stevensmiley/Documents/GitHub/Kaggle-Titanic/Jupyter/Outputs/Figures failed\n"
     ]
    }
   ],
   "source": [
    "# OUTPUTS: Folder for storing OUTPUTS\n",
    "OUTPUT_path=folder_path(currentDirectory+'/Outputs')\n",
    "\n",
    "# Models: Folder for storing models\n",
    "models_path=folder_path(OUTPUT_path+'/Models')\n",
    "# Figures: Folder for storing figures\n",
    "figures_path=folder_path(OUTPUT_path+'/Figures')"
   ]
  },
  {
   "cell_type": "markdown",
   "metadata": {},
   "source": [
    "# Code_Objective_3\n",
    "# 3: Import Data and View Data"
   ]
  },
  {
   "cell_type": "code",
   "execution_count": 6,
   "metadata": {},
   "outputs": [
    {
     "name": "stdout",
     "output_type": "stream",
     "text": [
      "Input file not found at location: /kaggle/input/titanic/train.csv\n",
      "Input file not found at location: /kaggle/input/titanic/test.csv\n",
      "Successfully loaded Input file from: /Users/stevensmiley/Documents/GitHub/Kaggle-Titanic/Jupyter/Inputs\n"
     ]
    },
    {
     "data": {
      "text/html": [
       "<div>\n",
       "<style scoped>\n",
       "    .dataframe tbody tr th:only-of-type {\n",
       "        vertical-align: middle;\n",
       "    }\n",
       "\n",
       "    .dataframe tbody tr th {\n",
       "        vertical-align: top;\n",
       "    }\n",
       "\n",
       "    .dataframe thead th {\n",
       "        text-align: right;\n",
       "    }\n",
       "</style>\n",
       "<table border=\"1\" class=\"dataframe\">\n",
       "  <thead>\n",
       "    <tr style=\"text-align: right;\">\n",
       "      <th></th>\n",
       "      <th>PassengerId</th>\n",
       "      <th>Pclass</th>\n",
       "      <th>Name</th>\n",
       "      <th>Sex</th>\n",
       "      <th>Age</th>\n",
       "      <th>SibSp</th>\n",
       "      <th>Parch</th>\n",
       "      <th>Ticket</th>\n",
       "      <th>Fare</th>\n",
       "      <th>Cabin</th>\n",
       "      <th>Embarked</th>\n",
       "    </tr>\n",
       "  </thead>\n",
       "  <tbody>\n",
       "    <tr>\n",
       "      <td>0</td>\n",
       "      <td>892</td>\n",
       "      <td>3</td>\n",
       "      <td>Kelly, Mr. James</td>\n",
       "      <td>male</td>\n",
       "      <td>34.5</td>\n",
       "      <td>0</td>\n",
       "      <td>0</td>\n",
       "      <td>330911</td>\n",
       "      <td>7.8292</td>\n",
       "      <td>NaN</td>\n",
       "      <td>Q</td>\n",
       "    </tr>\n",
       "    <tr>\n",
       "      <td>1</td>\n",
       "      <td>893</td>\n",
       "      <td>3</td>\n",
       "      <td>Wilkes, Mrs. James (Ellen Needs)</td>\n",
       "      <td>female</td>\n",
       "      <td>47.0</td>\n",
       "      <td>1</td>\n",
       "      <td>0</td>\n",
       "      <td>363272</td>\n",
       "      <td>7.0000</td>\n",
       "      <td>NaN</td>\n",
       "      <td>S</td>\n",
       "    </tr>\n",
       "    <tr>\n",
       "      <td>2</td>\n",
       "      <td>894</td>\n",
       "      <td>2</td>\n",
       "      <td>Myles, Mr. Thomas Francis</td>\n",
       "      <td>male</td>\n",
       "      <td>62.0</td>\n",
       "      <td>0</td>\n",
       "      <td>0</td>\n",
       "      <td>240276</td>\n",
       "      <td>9.6875</td>\n",
       "      <td>NaN</td>\n",
       "      <td>Q</td>\n",
       "    </tr>\n",
       "    <tr>\n",
       "      <td>3</td>\n",
       "      <td>895</td>\n",
       "      <td>3</td>\n",
       "      <td>Wirz, Mr. Albert</td>\n",
       "      <td>male</td>\n",
       "      <td>27.0</td>\n",
       "      <td>0</td>\n",
       "      <td>0</td>\n",
       "      <td>315154</td>\n",
       "      <td>8.6625</td>\n",
       "      <td>NaN</td>\n",
       "      <td>S</td>\n",
       "    </tr>\n",
       "    <tr>\n",
       "      <td>4</td>\n",
       "      <td>896</td>\n",
       "      <td>3</td>\n",
       "      <td>Hirvonen, Mrs. Alexander (Helga E Lindqvist)</td>\n",
       "      <td>female</td>\n",
       "      <td>22.0</td>\n",
       "      <td>1</td>\n",
       "      <td>1</td>\n",
       "      <td>3101298</td>\n",
       "      <td>12.2875</td>\n",
       "      <td>NaN</td>\n",
       "      <td>S</td>\n",
       "    </tr>\n",
       "    <tr>\n",
       "      <td>5</td>\n",
       "      <td>897</td>\n",
       "      <td>3</td>\n",
       "      <td>Svensson, Mr. Johan Cervin</td>\n",
       "      <td>male</td>\n",
       "      <td>14.0</td>\n",
       "      <td>0</td>\n",
       "      <td>0</td>\n",
       "      <td>7538</td>\n",
       "      <td>9.2250</td>\n",
       "      <td>NaN</td>\n",
       "      <td>S</td>\n",
       "    </tr>\n",
       "    <tr>\n",
       "      <td>6</td>\n",
       "      <td>898</td>\n",
       "      <td>3</td>\n",
       "      <td>Connolly, Miss. Kate</td>\n",
       "      <td>female</td>\n",
       "      <td>30.0</td>\n",
       "      <td>0</td>\n",
       "      <td>0</td>\n",
       "      <td>330972</td>\n",
       "      <td>7.6292</td>\n",
       "      <td>NaN</td>\n",
       "      <td>Q</td>\n",
       "    </tr>\n",
       "    <tr>\n",
       "      <td>7</td>\n",
       "      <td>899</td>\n",
       "      <td>2</td>\n",
       "      <td>Caldwell, Mr. Albert Francis</td>\n",
       "      <td>male</td>\n",
       "      <td>26.0</td>\n",
       "      <td>1</td>\n",
       "      <td>1</td>\n",
       "      <td>248738</td>\n",
       "      <td>29.0000</td>\n",
       "      <td>NaN</td>\n",
       "      <td>S</td>\n",
       "    </tr>\n",
       "    <tr>\n",
       "      <td>8</td>\n",
       "      <td>900</td>\n",
       "      <td>3</td>\n",
       "      <td>Abrahim, Mrs. Joseph (Sophie Halaut Easu)</td>\n",
       "      <td>female</td>\n",
       "      <td>18.0</td>\n",
       "      <td>0</td>\n",
       "      <td>0</td>\n",
       "      <td>2657</td>\n",
       "      <td>7.2292</td>\n",
       "      <td>NaN</td>\n",
       "      <td>C</td>\n",
       "    </tr>\n",
       "    <tr>\n",
       "      <td>9</td>\n",
       "      <td>901</td>\n",
       "      <td>3</td>\n",
       "      <td>Davies, Mr. John Samuel</td>\n",
       "      <td>male</td>\n",
       "      <td>21.0</td>\n",
       "      <td>2</td>\n",
       "      <td>0</td>\n",
       "      <td>A/4 48871</td>\n",
       "      <td>24.1500</td>\n",
       "      <td>NaN</td>\n",
       "      <td>S</td>\n",
       "    </tr>\n",
       "  </tbody>\n",
       "</table>\n",
       "</div>"
      ],
      "text/plain": [
       "   PassengerId  Pclass                                          Name     Sex  \\\n",
       "0          892       3                              Kelly, Mr. James    male   \n",
       "1          893       3              Wilkes, Mrs. James (Ellen Needs)  female   \n",
       "2          894       2                     Myles, Mr. Thomas Francis    male   \n",
       "3          895       3                              Wirz, Mr. Albert    male   \n",
       "4          896       3  Hirvonen, Mrs. Alexander (Helga E Lindqvist)  female   \n",
       "5          897       3                    Svensson, Mr. Johan Cervin    male   \n",
       "6          898       3                          Connolly, Miss. Kate  female   \n",
       "7          899       2                  Caldwell, Mr. Albert Francis    male   \n",
       "8          900       3     Abrahim, Mrs. Joseph (Sophie Halaut Easu)  female   \n",
       "9          901       3                       Davies, Mr. John Samuel    male   \n",
       "\n",
       "    Age  SibSp  Parch     Ticket     Fare Cabin Embarked  \n",
       "0  34.5      0      0     330911   7.8292   NaN        Q  \n",
       "1  47.0      1      0     363272   7.0000   NaN        S  \n",
       "2  62.0      0      0     240276   9.6875   NaN        Q  \n",
       "3  27.0      0      0     315154   8.6625   NaN        S  \n",
       "4  22.0      1      1    3101298  12.2875   NaN        S  \n",
       "5  14.0      0      0       7538   9.2250   NaN        S  \n",
       "6  30.0      0      0     330972   7.6292   NaN        Q  \n",
       "7  26.0      1      1     248738  29.0000   NaN        S  \n",
       "8  18.0      0      0       2657   7.2292   NaN        C  \n",
       "9  21.0      2      0  A/4 48871  24.1500   NaN        S  "
      ]
     },
     "execution_count": 6,
     "metadata": {},
     "output_type": "execute_result"
    }
   ],
   "source": [
    "\n",
    "try:\n",
    "    train= pd.read_csv('/kaggle/input/titanic/train.csv')\n",
    "    test= pd.read_csv('/kaggle/input/titanic/test.csv')\n",
    "except OSError:\n",
    "    print (\"Input file not found at location:\",'/kaggle/input/titanic/train.csv')\n",
    "    print (\"Input file not found at location:\",'/kaggle/input/titanic/test.csv')\n",
    "    INPUT_path=currentDirectory+'/Inputs'\n",
    "    train_path=os.path.join(INPUT_path,'train.csv')\n",
    "    train= pd.read_csv(train_path)\n",
    "    test_path=os.path.join(INPUT_path,'test.csv')\n",
    "    test= pd.read_csv(test_path)\n",
    "    print (\"Successfully loaded Input file from:\",INPUT_path)\n",
    "else:\n",
    "    print (\"Successfully loaded Input file from Kaggle:\")\n",
    "\n",
    "\n",
    "\n",
    "\n",
    "train.head(10) #notice Survival is provided for train dataset\n",
    "test.head(10) #notice Survival is NOT provided for test dataset"
   ]
  },
  {
   "cell_type": "markdown",
   "metadata": {},
   "source": [
    "# Code_Objective_4\n",
    "# 4: Explore Data, Clean Data, Feature Extraction"
   ]
  },
  {
   "cell_type": "markdown",
   "metadata": {},
   "source": [
    "We want to explore the data by looking for missing or null values as well as overall trends.  Then clean the data based on what we find so it is better able to be used with a Machine Learning algorithm to make a model.  We then extract some features that we think would give a model stronger predictive power."
   ]
  },
  {
   "cell_type": "markdown",
   "metadata": {},
   "source": [
    "## Code_Objective_4.0\n",
    "## 4.0: Explore Data"
   ]
  },
  {
   "cell_type": "markdown",
   "metadata": {},
   "source": [
    "The first step is to explore the data."
   ]
  },
  {
   "cell_type": "markdown",
   "metadata": {},
   "source": [
    "### Code_Objective_4.0.0\n",
    "### 4.0.0: Copy & View Data"
   ]
  },
  {
   "cell_type": "markdown",
   "metadata": {},
   "source": [
    "We want to make a copy of the data so that we don't overwrite the original.  I will call the copy datasets as `test_clean` and `train_clean` for the raw `test` and `train` datasets respectively.  "
   ]
  },
  {
   "cell_type": "code",
   "execution_count": 7,
   "metadata": {},
   "outputs": [],
   "source": [
    "test_clean=pd.DataFrame(test)\n",
    "train_clean=pd.DataFrame(train)"
   ]
  },
  {
   "cell_type": "markdown",
   "metadata": {},
   "source": [
    "#### View Raw Data "
   ]
  },
  {
   "cell_type": "markdown",
   "metadata": {},
   "source": [
    "From the `train_clean` data, we can see that there are 891 unique passengers that boarded the Titanic with 12 different features of the form: integers, real numbers, and objects.  On the otherhand, the `test_clean` data has 418 unique passengers that boarded the ship with 11 different features of the same form.  However, the `test_clean` data does not include the `Survived` column, which is why it is heldout for the competition.  Thus, we want to create a model that will predict the missing `Survived` column for the `test_clean` dataset.  In order to create such a model, we should look for as many relationships to surival with our training dataset.\n"
   ]
  },
  {
   "cell_type": "code",
   "execution_count": 8,
   "metadata": {},
   "outputs": [
    {
     "name": "stdout",
     "output_type": "stream",
     "text": [
      "<class 'pandas.core.frame.DataFrame'>\n",
      "RangeIndex: 891 entries, 0 to 890\n",
      "Data columns (total 12 columns):\n",
      "PassengerId    891 non-null int64\n",
      "Survived       891 non-null int64\n",
      "Pclass         891 non-null int64\n",
      "Name           891 non-null object\n",
      "Sex            891 non-null object\n",
      "Age            714 non-null float64\n",
      "SibSp          891 non-null int64\n",
      "Parch          891 non-null int64\n",
      "Ticket         891 non-null object\n",
      "Fare           891 non-null float64\n",
      "Cabin          204 non-null object\n",
      "Embarked       889 non-null object\n",
      "dtypes: float64(2), int64(5), object(5)\n",
      "memory usage: 83.7+ KB\n"
     ]
    }
   ],
   "source": [
    "train_clean.info()"
   ]
  },
  {
   "cell_type": "code",
   "execution_count": 9,
   "metadata": {},
   "outputs": [
    {
     "name": "stdout",
     "output_type": "stream",
     "text": [
      "<class 'pandas.core.frame.DataFrame'>\n",
      "RangeIndex: 418 entries, 0 to 417\n",
      "Data columns (total 11 columns):\n",
      "PassengerId    418 non-null int64\n",
      "Pclass         418 non-null int64\n",
      "Name           418 non-null object\n",
      "Sex            418 non-null object\n",
      "Age            332 non-null float64\n",
      "SibSp          418 non-null int64\n",
      "Parch          418 non-null int64\n",
      "Ticket         418 non-null object\n",
      "Fare           417 non-null float64\n",
      "Cabin          91 non-null object\n",
      "Embarked       418 non-null object\n",
      "dtypes: float64(2), int64(4), object(5)\n",
      "memory usage: 36.0+ KB\n"
     ]
    }
   ],
   "source": [
    "test_clean.info()"
   ]
  },
  {
   "cell_type": "markdown",
   "metadata": {},
   "source": [
    "#### The Histogram Plot\n",
    "I love this figure below.  It really gives us some insight into how the data is distributed.  \n",
    "First, I need to drop `'Survived','PassengerId','Name','Cabin','Ticket','Embarked'` because:\n",
    "* `Survived` is not in the test data to look at (but can be seen for training with the blue and orange columns); \n",
    "* `PassengerId` does not tell us anything because each passenger has their own unique Id;\n",
    "* `Name` is an \"object\" we need to sort, and we can see the importance for it later;  \n",
    "* `Cabin` has a bunch of null values and we need to sort, and we can see the importance for it as well later;\n",
    "* `Ticket` is an \"object\" that we will look at later.\n",
    "* `Embarked` is an \"object\" that we will look at later as well.\n",
    "\n",
    "The `train_clean` data is shown with the `test_clean` data in this histogram.  \n",
    "\n",
    "  * Blue is for the people that died from the training set, `Training-Died`\n",
    "  * Orange is for the people that survived from the training set, `Training-Survived`\n",
    "  * Green is a combination of all the people in the training set, `Training-ALL`\n",
    "  * Red is a combination of all the people in the test set, `Test-ALL` [We don't have the survival info for this!]\n",
    "  \n",
    "We can see for that the distribution for each feature is relatively equally sampled between `train_clean` and `test_clean` by looking at the heights of all of the Green and Red histogram bars for `Training-ALL` and `Test-ALL` respectively.  The Green [training] columns are ~double the height of the Red [testing] columns.  This is good because we don't need to worry about training the models for an unequal distribution between the test and training sets based on features.\n",
    "\n",
    "Looking at the training data alone between people that `Died` and people that `Survived`:\n",
    "* `Pclass` The Social-Class of the passenger (i.e. PClass=1 is upper class, PClass=2 is middle class, PClass=3 is lower class.)\n",
    "    * `Training-Died`[Blue] vs. `Training-Survived`[Orange]\n",
    "        * PClass 1: More people survived!,\n",
    "        * PClass 2: Roughly equal,\n",
    "        * PClass 3: Way more people died!\n",
    "* `Sex` The sex of the individual (male or female).\n",
    "    * `Training-Died`[Blue] vs. `Training-Survived`[Orange]\n",
    "        * male vs. female: way more men died!\n",
    "* `Age` The age of the passenger.\n",
    "    * `Training-Died`[Blue] vs. `Training-Survived`[Orange]\n",
    "        * Age 0-10 years: nearly twice as many young kids survived!\n",
    "        * Age >10 years: more died than survived!\n",
    "* `SibSp` Number of siblings and spouses the passenger had.\n",
    "    * `Training-Died`[Blue] vs. `Training-Survived`[Orange]\n",
    "        * SibSp 0: more likely to die by nearly double!\n",
    "        * SibSp 1: a little more likely to survive, but not much,\n",
    "        * SibSp >1: more likely to die.\n",
    "* `Parch` Number of parents and kids the passenger had.\n",
    "    * `Training-Died`[Blue] vs. `Training-Survived`[Orange]\n",
    "        * Parch 0: more likely to die by nearly double!\n",
    "        * Parch 1-2: Roughly equal,\n",
    "        * Parch >1: hard to say, not much to see on this one.\n",
    "* `Fare` The cost (dollars) of the ticket for the passenger.\n",
    "    * `Training-Died`[Blue] vs. `Training-Survived`[Orange]\n",
    "        * Fare ~0-75: more likely to die by nearly double!\n",
    "        * Fare >75: more likely to survive!\n",
    "        \n",
    "Now that we have an idea of the data we got, lets get it organized and cleaned up.  A key to machine learning is to making sure the data feeding the algorithms is in the proper form.  Since this is a Binary Classification problem (Survived vs. Died), we should try to get the input data in a numerical form that is standardized.  With some data cleaning, we can convert some of these features into Binary and also extract features that might help the algorithms make better models for predicting Survival.  Also, we want to fill in or look at the missing values and see if we can get rid of any data that is not adding much value to training our algorithms.\n"
   ]
  },
  {
   "cell_type": "code",
   "execution_count": 10,
   "metadata": {},
   "outputs": [
    {
     "data": {
      "image/png": "[encoded data removed]",
      "text/plain": [
       "<Figure size 1440x720 with 6 Axes>"
      ]
     },
     "metadata": {
      "needs_background": "light"
     },
     "output_type": "display_data"
    }
   ],
   "source": [
    "DropList=['Survived','PassengerId','Name','Cabin','Ticket','Embarked']\n",
    "sqrt_length=round(len(list(train_clean.drop(DropList,axis=1)))**(1/2))\n",
    "ncols=sqrt_length+1\n",
    "nrows=sqrt_length\n",
    "fig, axes = plt.subplots(ncols=ncols,nrows=nrows,figsize=[20,10])\n",
    "fig.suptitle('Figure 0: Histogram Plot Raw Data', y=1.05, fontsize=24)\n",
    "fig.tight_layout()\n",
    "slog_train = train_clean['Survived'] == 1\n",
    "for name, ax in zip(list(train_clean.drop(['Survived','PassengerId','Name','Cabin','Ticket','Embarked'],axis=1)),axes.flat):\n",
    "    x1=train_clean[~slog_train][name]\n",
    "    x2=train_clean[slog_train][name]\n",
    "    x3=train_clean[name]\n",
    "    x4=test_clean[name]\n",
    "    labels=['Training-Died','Training-Survived','Training-ALL','Test-ALL']\n",
    "    ax.hist([x1,x2,x3,x4],label=labels)\n",
    "    ax.legend()\n",
    "    ax.set_xlabel(name)\n",
    "    ax.set_ylabel('# of people')\n",
    "    plt.tight_layout()\n",
    "histplot_fig = os.path.join(figures_path,'Figure 0.Histogram Plot Raw Data.png')\n",
    "plt.savefig(histplot_fig,dpi=300,bbox_inches='tight')"
   ]
  },
  {
   "cell_type": "markdown",
   "metadata": {},
   "source": [
    "### Code_Objective_4.0.1\n",
    "###   4.0.1 Find Missing Values"
   ]
  },
  {
   "cell_type": "code",
   "execution_count": 11,
   "metadata": {},
   "outputs": [],
   "source": [
    "missing_train=train_clean.isnull().sum() # notice Age [177], Cabin [687], Embarked [2]\n",
    "missing_test=test_clean.isnull().sum() # notice Age [86], Fare [1], Cabin [327]\n",
    "\n"
   ]
  },
  {
   "cell_type": "markdown",
   "metadata": {},
   "source": [
    "### missing_train\n",
    "   Shows the missing values in the training set"
   ]
  },
  {
   "cell_type": "code",
   "execution_count": 12,
   "metadata": {},
   "outputs": [
    {
     "name": "stdout",
     "output_type": "stream",
     "text": [
      "PassengerId      0\n",
      "Survived         0\n",
      "Pclass           0\n",
      "Name             0\n",
      "Sex              0\n",
      "Age            177\n",
      "SibSp            0\n",
      "Parch            0\n",
      "Ticket           0\n",
      "Fare             0\n",
      "Cabin          687\n",
      "Embarked         2\n",
      "dtype: int64\n"
     ]
    }
   ],
   "source": [
    "print(missing_train)"
   ]
  },
  {
   "cell_type": "markdown",
   "metadata": {},
   "source": [
    "### missing_test\n",
    "   Shows the missing values in the test set"
   ]
  },
  {
   "cell_type": "code",
   "execution_count": 13,
   "metadata": {},
   "outputs": [
    {
     "name": "stdout",
     "output_type": "stream",
     "text": [
      "PassengerId      0\n",
      "Pclass           0\n",
      "Name             0\n",
      "Sex              0\n",
      "Age             86\n",
      "SibSp            0\n",
      "Parch            0\n",
      "Ticket           0\n",
      "Fare             1\n",
      "Cabin          327\n",
      "Embarked         0\n",
      "dtype: int64\n"
     ]
    }
   ],
   "source": [
    "print(missing_test)"
   ]
  },
  {
   "cell_type": "markdown",
   "metadata": {},
   "source": [
    "### Code_Objective_4.0.2\n",
    "###   4.0.2: Fix Missing Values\n",
    "####       Code_Objective_4.0.2.1\n",
    "####       4.0.2.1: Age\n",
    "Missing 177 values in train set of 891, and 86 values in test set of 418.  Therefore, missing significant portion of the data.  Fill missing values with the average value to prevent bias.\n"
   ]
  },
  {
   "cell_type": "code",
   "execution_count": 14,
   "metadata": {},
   "outputs": [],
   "source": [
    "train_clean['Age'].fillna(train_clean['Age'].mean(),inplace=True) \n",
    "test_clean['Age'].fillna(test_clean['Age'].mean(),inplace=True)           "
   ]
  },
  {
   "cell_type": "code",
   "execution_count": 15,
   "metadata": {},
   "outputs": [],
   "source": [
    "def AgeConvertCategory(data):\n",
    "    datatest=pd.DataFrame(data)\n",
    "    datatest['Age_Child']=np.where((datatest['Age']<10),1,0)\n",
    "    datatest['Age_Teen']=np.where((datatest['Age'] >10) & (datatest['Age']<20),1,0)\n",
    "    datatest['Age_YoungAdult']=np.where((datatest['Age']>20) & (datatest['Age']<30),1,0)\n",
    "    datatest['Age_MidAdult']=np.where((datatest['Age']>30) & (datatest['Age']<50),1,0)\n",
    "    datatest['Age_OldAdult']=np.where((datatest['Age']>50),1,0)\n",
    "    return datatest"
   ]
  },
  {
   "cell_type": "code",
   "execution_count": 16,
   "metadata": {},
   "outputs": [],
   "source": [
    "train_clean=AgeConvertCategory(pd.DataFrame(train_clean))\n",
    "test_clean=AgeConvertCategory(pd.DataFrame(test_clean))"
   ]
  },
  {
   "cell_type": "markdown",
   "metadata": {},
   "source": [
    "#### Code_Objective_4.0.2.2\n",
    "####      4.0.2.2: Cabin"
   ]
  },
  {
   "cell_type": "code",
   "execution_count": 17,
   "metadata": {},
   "outputs": [
    {
     "name": "stdout",
     "output_type": "stream",
     "text": [
      "148\n"
     ]
    }
   ],
   "source": [
    "# Look at the unique Cabin identifiers\n",
    "print(len(train_clean['Cabin'].unique()))\n",
    "\n",
    "# make a function to conver to the first letter\n",
    "def oneletter_conv(data):\n",
    "    newlist=[None]*len(data)\n",
    "    count=0\n",
    "    for name in list(data):\n",
    "        newlist[count]=str(data[count])[0]\n",
    "        count=count+1\n",
    "    return pd.DataFrame(newlist)"
   ]
  },
  {
   "cell_type": "code",
   "execution_count": 18,
   "metadata": {},
   "outputs": [],
   "source": [
    "# Assign missing values with 'Unknown' and known values with the first letter of their cabin identifier.\n",
    "# The first letter of the cabin id could represent a unique physical location for the passenger that correlates with survival.\n",
    "train_clean['Cabin']=oneletter_conv(train_clean['Cabin'])\n",
    "test_clean['Cabin']=oneletter_conv(test_clean['Cabin'])"
   ]
  },
  {
   "cell_type": "markdown",
   "metadata": {},
   "source": [
    "\n",
    "\n",
    "Verify missing cabin correlates with survival using point plot.  The point plot represents the estimate of central tendency for a numeric variable (Cabin) by the position of scatter plot points and provides some indication of the uncertainty around that estimate using error bars. \n",
    "        \n"
   ]
  },
  {
   "cell_type": "code",
   "execution_count": 19,
   "metadata": {},
   "outputs": [
    {
     "data": {
      "image/png": "[encoded data removed]",
      "text/plain": [
       "<Figure size 432x288 with 1 Axes>"
      ]
     },
     "metadata": {
      "needs_background": "light"
     },
     "output_type": "display_data"
    }
   ],
   "source": [
    "fig,ax = plt.subplots()\n",
    "\n",
    "sns.pointplot(x='Cabin',y='Survived',data=train_clean,color='red')\n",
    "plt.legend(['Cabin'])\n",
    "plt.title('Figure 1.1A:  Point Plot [training data] \"Cabin\" vs. \"Survived\"')\n",
    "pointplot_fig=os.path.join(figures_path,'Figure1.1A.Pointplot.png')\n",
    "plt.savefig(pointplot_fig,dpi=300,bbox_inches='tight')\n",
    "plt.show()"
   ]
  },
  {
   "cell_type": "code",
   "execution_count": 20,
   "metadata": {},
   "outputs": [
    {
     "data": {
      "image/png": "[encoded data removed]",
      "text/plain": [
       "<Figure size 432x288 with 1 Axes>"
      ]
     },
     "metadata": {
      "needs_background": "light"
     },
     "output_type": "display_data"
    }
   ],
   "source": [
    "pivot_plot = train_clean.pivot_table(index='Cabin',values='Survived',aggfunc='mean')\n",
    "pivot_plot.plot.bar(color='red')\n",
    "plt.ylabel('Average Survived')\n",
    "plt.title('Figure 1.1.B:  Pivot Table [training data] \"Cabin\" vs. \"Survived\"')\n",
    "pivotplot_fig=os.path.join(figures_path,'Figure1.1.B_Pivotplot.png')\n",
    "plt.savefig(pivotplot_fig,dpi=300,bbox_inches='tight')\n",
    "plt.show()"
   ]
  },
  {
   "cell_type": "code",
   "execution_count": 21,
   "metadata": {},
   "outputs": [
    {
     "data": {
      "image/png": "[encoded data removed]",
      "text/plain": [
       "<Figure size 432x288 with 1 Axes>"
      ]
     },
     "metadata": {
      "needs_background": "light"
     },
     "output_type": "display_data"
    }
   ],
   "source": [
    "plt.figure()\n",
    "sns.pointplot(x='Sex',y='Survived',data=train_clean,color='blue')\n",
    "plt.legend(['Sex'])\n",
    "plt.title('Figure 1.2:  Point Plot [training data] \"Sex\" vs. \"Survived\"')\n",
    "pointplot_fig=os.path.join(figures_path,'Figure1.2.Pointplot.png')\n",
    "plt.savefig(pointplot_fig,dpi=300,bbox_inches='tight')\n",
    "plt.show()"
   ]
  },
  {
   "cell_type": "markdown",
   "metadata": {},
   "source": [
    "####       5.0.2.3 Explore Data: Fix Missing Values: Embarked\n",
    "\n",
    "Missing 2 values in train set of 891, and 0 values in test set of 418.  Therefore, not missing too much information, so we can delete these rows.\n"
   ]
  },
  {
   "cell_type": "code",
   "execution_count": 22,
   "metadata": {},
   "outputs": [],
   "source": [
    "train_clean=train_clean.dropna(subset=['Embarked'],axis=0)"
   ]
  },
  {
   "cell_type": "markdown",
   "metadata": {},
   "source": [
    "#### Code_Objective_4.0.2.4\n",
    "####       4.0.2.4: Fare\n",
    "\n",
    "Missing 0 values in train set of 891, and 1 values in test set of 418.  Therefore, not missing too much information, but it is in the test data. This person did not have a cabin, so the fare is probably cheaper than just the average.  So we can use the average of the fare for peopel without a cabin for this value without causing bias.\n"
   ]
  },
  {
   "cell_type": "code",
   "execution_count": 23,
   "metadata": {},
   "outputs": [],
   "source": [
    "mean_Fare=test_clean['Fare'].mean()\n",
    "mean_Fare_noCabin=test_clean.loc[test_clean.loc[:,'Cabin']=='n','Fare'].mean()\n",
    "test_clean['Fare'].fillna(mean_Fare,inplace=True) "
   ]
  },
  {
   "cell_type": "code",
   "execution_count": 24,
   "metadata": {},
   "outputs": [],
   "source": [
    "def pd_concat(x1,x2): #for binning, combine both datasets by the variable to bin\n",
    "    return pd.concat([x1,x2],sort=False).reset_index(drop=True)"
   ]
  },
  {
   "cell_type": "code",
   "execution_count": 25,
   "metadata": {},
   "outputs": [],
   "source": [
    "dummyall=pd.qcut(pd_concat(train_clean['Fare'],test_clean['Fare']),5)"
   ]
  },
  {
   "cell_type": "code",
   "execution_count": 26,
   "metadata": {},
   "outputs": [],
   "source": [
    "dummy1=dummyall[:len(train_clean['Fare'])]\n",
    "dummy2=dummyall[len(train_clean['Fare']):]\n",
    "dummy1.reset_index(drop=True,inplace=True)\n",
    "dummy2.reset_index(drop=True,inplace=True)\n",
    "train_clean['Fare']=dummy1\n",
    "test_clean['Fare']=dummy2"
   ]
  },
  {
   "cell_type": "code",
   "execution_count": 27,
   "metadata": {},
   "outputs": [
    {
     "name": "stdout",
     "output_type": "stream",
     "text": [
      "(-0.001, 7.854]\n"
     ]
    }
   ],
   "source": [
    "mean_Fare=dummyall.describe().top\n",
    "test_clean['Fare'].fillna(mean_Fare,inplace=True) \n",
    "train_clean['Fare'].fillna(mean_Fare,inplace=True) \n",
    "print(mean_Fare)"
   ]
  },
  {
   "cell_type": "code",
   "execution_count": 28,
   "metadata": {},
   "outputs": [],
   "source": [
    "encoder = LabelEncoder()\n",
    "test_clean['Fare']=encoder.fit_transform(test_clean['Fare'])\n",
    "train_clean['Fare']=encoder.fit_transform(train_clean['Fare'])"
   ]
  },
  {
   "cell_type": "code",
   "execution_count": 29,
   "metadata": {},
   "outputs": [
    {
     "data": {
      "image/png": "[encoded data removed]",
      "text/plain": [
       "<Figure size 432x288 with 1 Axes>"
      ]
     },
     "metadata": {
      "needs_background": "light"
     },
     "output_type": "display_data"
    }
   ],
   "source": [
    "plt.figure()\n",
    "sns.pointplot(x='Survived',y='Fare',data=train_clean,color='purple')\n",
    "plt.legend(['Survived'])\n",
    "plt.title('Figure 1.3.A:  Point Plot [training data] \"Fare\" vs. \"Survived\"')\n",
    "pointplot_fig=os.path.join(figures_path,'Figure1.3.A_Pointplot.png')\n",
    "plt.savefig(pointplot_fig,dpi=300,bbox_inches='tight')\n",
    "plt.show()"
   ]
  },
  {
   "cell_type": "code",
   "execution_count": 30,
   "metadata": {},
   "outputs": [
    {
     "name": "stdout",
     "output_type": "stream",
     "text": [
      "   PassengerId  Survived  Pclass  \\\n",
      "0            1         0       3   \n",
      "1            2         1       1   \n",
      "2            3         1       3   \n",
      "3            4         1       1   \n",
      "4            5         0       3   \n",
      "\n",
      "                                                Name     Sex   Age  SibSp  \\\n",
      "0                            Braund, Mr. Owen Harris    male  22.0      1   \n",
      "1  Cumings, Mrs. John Bradley (Florence Briggs Th...  female  38.0      1   \n",
      "2                             Heikkinen, Miss. Laina  female  26.0      0   \n",
      "3       Futrelle, Mrs. Jacques Heath (Lily May Peel)  female  35.0      1   \n",
      "4                           Allen, Mr. William Henry    male  35.0      0   \n",
      "\n",
      "   Parch            Ticket  Fare Cabin Embarked  Age_Child  Age_Teen  \\\n",
      "0      0         A/5 21171     0     n        S          0         0   \n",
      "1      0          PC 17599     4     C        C          0         0   \n",
      "2      0  STON/O2. 3101282     1     n        S          0         0   \n",
      "3      0            113803     4     C        S          0         0   \n",
      "4      0            373450     1     n        S          0         0   \n",
      "\n",
      "   Age_YoungAdult  Age_MidAdult  Age_OldAdult  \n",
      "0               1             0             0  \n",
      "1               0             1             0  \n",
      "2               1             0             0  \n",
      "3               0             1             0  \n",
      "4               0             1             0  \n"
     ]
    }
   ],
   "source": [
    "print(train_clean.head())"
   ]
  },
  {
   "cell_type": "markdown",
   "metadata": {},
   "source": [
    "#### Code_Objective_4.0.2.5\n",
    "####       4.0.2.5 Store Missing Trian Information"
   ]
  },
  {
   "cell_type": "code",
   "execution_count": 31,
   "metadata": {},
   "outputs": [],
   "source": [
    "missing_train_clean=train_clean.isnull().sum() # notice Age [177], Cabin [687], Embarked [2]\n",
    "missing_test_clean=test_clean.isnull().sum() # notice Age [86], Fare [1], Cabin [327]"
   ]
  },
  {
   "cell_type": "markdown",
   "metadata": {},
   "source": [
    "### missing_train_clean\n",
    "   Verify there is no missing values in the training set"
   ]
  },
  {
   "cell_type": "code",
   "execution_count": 32,
   "metadata": {},
   "outputs": [
    {
     "name": "stdout",
     "output_type": "stream",
     "text": [
      "PassengerId       0\n",
      "Survived          0\n",
      "Pclass            0\n",
      "Name              0\n",
      "Sex               0\n",
      "Age               0\n",
      "SibSp             0\n",
      "Parch             0\n",
      "Ticket            0\n",
      "Fare              0\n",
      "Cabin             0\n",
      "Embarked          0\n",
      "Age_Child         0\n",
      "Age_Teen          0\n",
      "Age_YoungAdult    0\n",
      "Age_MidAdult      0\n",
      "Age_OldAdult      0\n",
      "dtype: int64\n"
     ]
    }
   ],
   "source": [
    "print(missing_train_clean)"
   ]
  },
  {
   "cell_type": "markdown",
   "metadata": {},
   "source": [
    "### missing_test_clean\n",
    "   Verify there is no missing values in the test set"
   ]
  },
  {
   "cell_type": "code",
   "execution_count": 33,
   "metadata": {},
   "outputs": [
    {
     "name": "stdout",
     "output_type": "stream",
     "text": [
      "PassengerId       0\n",
      "Pclass            0\n",
      "Name              0\n",
      "Sex               0\n",
      "Age               0\n",
      "SibSp             0\n",
      "Parch             0\n",
      "Ticket            0\n",
      "Fare              0\n",
      "Cabin             0\n",
      "Embarked          0\n",
      "Age_Child         0\n",
      "Age_Teen          0\n",
      "Age_YoungAdult    0\n",
      "Age_MidAdult      0\n",
      "Age_OldAdult      0\n",
      "dtype: int64\n"
     ]
    }
   ],
   "source": [
    "print(missing_test_clean)"
   ]
  },
  {
   "cell_type": "markdown",
   "metadata": {},
   "source": [
    "## Code_Objective_4.1\n",
    "##   4.1      Data Cleaning:\n",
    "\n",
    "### Code_Objective_4.1.0\n",
    "###   4.1.0    Change Name to Prefix"
   ]
  },
  {
   "cell_type": "code",
   "execution_count": 34,
   "metadata": {},
   "outputs": [],
   "source": [
    "def family_conv(data):\n",
    "    lastname=[]\n",
    "    for kk in list(data): # converts string in an array to only the Last Name\n",
    "        lastname.append(kk[0:kk.index(',')])\n",
    "    return lastname\n",
    "train_clean['Family']=family_conv(train_clean['Name'])\n",
    "test_clean['Family']=family_conv(test_clean['Name'])\n",
    "# View Unique Family\n",
    "Unique_Family_Train=(list(set(train_clean['Family'])))\n",
    "Unique_Family_Test=(list(set(train_clean['Family'])))"
   ]
  },
  {
   "cell_type": "code",
   "execution_count": 35,
   "metadata": {},
   "outputs": [],
   "source": [
    "def prefix_conv(data):\n",
    "    prefix=[]\n",
    "    for kk in list(data): # converts string in an array to only the Prefix\n",
    "        prefix.append(kk[kk.index(',')+1:kk.index('.')+1])\n",
    "    return prefix\n",
    "train_clean['Name']=prefix_conv(train_clean['Name'])\n",
    "test_clean['Name']=prefix_conv(test_clean['Name'])\n",
    "# View Unique Names\n",
    "Unique_Names_Train=(list(set(train_clean['Name'])))\n",
    "Unique_Names_Test=(list(set(train_clean['Name'])))"
   ]
  },
  {
   "cell_type": "markdown",
   "metadata": {},
   "source": [
    "## Before Numeric Conversion\n"
   ]
  },
  {
   "cell_type": "markdown",
   "metadata": {},
   "source": [
    "#### Unique_Family_Train"
   ]
  },
  {
   "cell_type": "code",
   "execution_count": 169,
   "metadata": {},
   "outputs": [
    {
     "ename": "TypeError",
     "evalue": "unsupported operand type(s) for *: 'NoneType' and 'int'",
     "output_type": "error",
     "traceback": [
      "\u001b[0;31m---------------------------------------------------------------------------\u001b[0m",
      "\u001b[0;31mTypeError\u001b[0m                                 Traceback (most recent call last)",
      "\u001b[0;32m<ipython-input-169-fe3cb022c048>\u001b[0m in \u001b[0;36m<module>\u001b[0;34m\u001b[0m\n\u001b[1;32m     10\u001b[0m \u001b[0msize_surv_family_train\u001b[0m\u001b[0;34m.\u001b[0m\u001b[0mhead\u001b[0m\u001b[0;34m(\u001b[0m\u001b[0;34m)\u001b[0m\u001b[0;34m\u001b[0m\u001b[0;34m\u001b[0m\u001b[0m\n\u001b[1;32m     11\u001b[0m \u001b[0mtrain_clean\u001b[0m\u001b[0;34m[\u001b[0m\u001b[0;34m'Family_Rate'\u001b[0m\u001b[0;34m]\u001b[0m\u001b[0;34m=\u001b[0m\u001b[0msize_surv_family_train\u001b[0m\u001b[0;34m[\u001b[0m\u001b[0;34m'Family_Rate'\u001b[0m\u001b[0;34m]\u001b[0m\u001b[0;34m\u001b[0m\u001b[0;34m\u001b[0m\u001b[0m\n\u001b[0;32m---> 12\u001b[0;31m \u001b[0mtest_clean\u001b[0m\u001b[0;34m[\u001b[0m\u001b[0;34m'Family_Rate'\u001b[0m\u001b[0;34m]\u001b[0m\u001b[0;34m=\u001b[0m\u001b[0;32mNone\u001b[0m\u001b[0;34m*\u001b[0m\u001b[0mlen\u001b[0m\u001b[0;34m(\u001b[0m\u001b[0mtest\u001b[0m\u001b[0;34m)\u001b[0m\u001b[0;34m\u001b[0m\u001b[0;34m\u001b[0m\u001b[0m\n\u001b[0m\u001b[1;32m     13\u001b[0m \u001b[0;32mfor\u001b[0m \u001b[0mname\u001b[0m \u001b[0;32min\u001b[0m \u001b[0mlist\u001b[0m\u001b[0;34m(\u001b[0m\u001b[0msize_surv_family_train\u001b[0m\u001b[0;34m.\u001b[0m\u001b[0mindex\u001b[0m\u001b[0;34m)\u001b[0m\u001b[0;34m:\u001b[0m\u001b[0;34m\u001b[0m\u001b[0;34m\u001b[0m\u001b[0m\n\u001b[1;32m     14\u001b[0m     \u001b[0;32mif\u001b[0m \u001b[0mname\u001b[0m \u001b[0;32min\u001b[0m \u001b[0mlist\u001b[0m\u001b[0;34m(\u001b[0m\u001b[0mtest_clean\u001b[0m\u001b[0;34m[\u001b[0m\u001b[0;34m'Family'\u001b[0m\u001b[0;34m]\u001b[0m\u001b[0;34m)\u001b[0m\u001b[0;34m:\u001b[0m\u001b[0;34m\u001b[0m\u001b[0;34m\u001b[0m\u001b[0m\n",
      "\u001b[0;31mTypeError\u001b[0m: unsupported operand type(s) for *: 'NoneType' and 'int'"
     ]
    }
   ],
   "source": [
    "# Combine SibSp (siblings and spouses) & Parch (parents & children)\n",
    "train_clean['Family_cnt']=1+train_clean['SibSp']+train_clean['Parch']\n",
    "test_clean['Family_cnt']=1+test_clean['SibSp']+test_clean['Parch']\n",
    "\n",
    "\n",
    "# Combine the family size with the average survival rate for that family\n",
    "size_surv_family_train = train_clean.groupby('Family')['Survived','Family','Family_cnt'].mean()\n",
    "size_surv_family_train['Family_Rate']=size_surv_family_train['Survived']*size_surv_family_train['Family_cnt']\n",
    "size_surv_family_test=[]\n",
    "size_surv_family_train.head()\n",
    "train_clean['Family_Rate']=size_surv_family_train['Family_Rate']\n",
    "test_clean['Family_Rate']=None*len(test)\n",
    "for name in list(size_surv_family_train.index):\n",
    "    if name in list(test_clean['Family']):\n",
    "        print(name,size_surv_family_train['Family_Rate'][name])\n",
    "        to_replace_value=test_clean['Family_Rate'][test_clean['Family']==name]\n",
    "        #print(to_replace_value)\n",
    "        value_=size_surv_family_train['Family_Rate'][name]\n",
    "        print(value_)\n",
    "        test_clean['Family_Rate']=value_\n",
    "#print(test_clean)\n",
    "        #train_clean['Family_Rate'][name]=train_clean['Family_Rate'].replace(value=size_surv_family_train['Family_Rate'][name])\n",
    "        \n",
    "        "
   ]
  },
  {
   "cell_type": "code",
   "execution_count": 168,
   "metadata": {},
   "outputs": [
    {
     "data": {
      "text/plain": [
       "array([0.])"
      ]
     },
     "execution_count": 168,
     "metadata": {},
     "output_type": "execute_result"
    }
   ],
   "source": [
    "test_clean['Family_Rate'].unique()"
   ]
  },
  {
   "cell_type": "markdown",
   "metadata": {},
   "source": [
    "#### Unique_Names_Train"
   ]
  },
  {
   "cell_type": "code",
   "execution_count": null,
   "metadata": {},
   "outputs": [],
   "source": [
    "print(Unique_Names_Train)"
   ]
  },
  {
   "cell_type": "code",
   "execution_count": null,
   "metadata": {},
   "outputs": [],
   "source": [
    "pivot_plot = train_clean.pivot_table(index='Name',values='Survived',aggfunc='mean')\n",
    "pivot_plot.plot.barh(color='green')\n",
    "plt.xlabel('Average Survived')\n",
    "plt.title('Figure 1.4.A:  Pivot Table [training data] \"Name\" vs. \"Survived\"')\n",
    "pivotplot_fig=os.path.join(figures_path,'Figure1.4.A_Pivotplot.png')\n",
    "plt.savefig(pivotplot_fig,dpi=300,bbox_inches='tight')\n",
    "plt.show()"
   ]
  },
  {
   "cell_type": "code",
   "execution_count": null,
   "metadata": {
    "scrolled": true
   },
   "outputs": [],
   "source": [
    "pivot_plot = train_clean.pivot_table(index='Name',values='Survived',aggfunc='mean')\n",
    "pivot_plot.plot.barh(color='green')\n",
    "plt.xlabel('Total # Survived')\n",
    "plt.title('Figure 1.4.B:  Pivot Table [training data] \"Name\" vs. \"Survived\"')\n",
    "pivotplot_fig=os.path.join(figures_path,'Figure1.4.B_Pivotplot.png')\n",
    "plt.savefig(pivotplot_fig,dpi=300,bbox_inches='tight')\n",
    "plt.show()\n",
    "print(train_clean['Name'].value_counts())\n",
    "print(test_clean['Name'].value_counts())\n",
    "\n",
    "        \n"
   ]
  },
  {
   "cell_type": "markdown",
   "metadata": {},
   "source": [
    "There are different names between the Traing and Test set.  Therefore, we will get rid of the columns we make below that are not unique to the Test set since they will not help predict by themselves anyt"
   ]
  },
  {
   "cell_type": "markdown",
   "metadata": {},
   "source": [
    "#### Function:  make_dummies"
   ]
  },
  {
   "cell_type": "code",
   "execution_count": null,
   "metadata": {},
   "outputs": [],
   "source": [
    "def make_dummies(data,col_name): #Make binary values for unique category names\n",
    "    dummy = pd.get_dummies(data[col_name],prefix=col_name)\n",
    "    data = pd.concat([data,dummy],axis=1)\n",
    "    return data"
   ]
  },
  {
   "cell_type": "markdown",
   "metadata": {},
   "source": [
    "### Code_Objective_4.1.1\n",
    "###   4.1.1:   Convert Categorical Variables to Continuous\n",
    "#### Code_Objective_4.1.1.1\n",
    "####   4.1.1.1: Embarked, Sex, Name"
   ]
  },
  {
   "cell_type": "markdown",
   "metadata": {},
   "source": [
    "#### Combine SibSp & Parch for Family Count"
   ]
  },
  {
   "cell_type": "code",
   "execution_count": null,
   "metadata": {},
   "outputs": [],
   "source": [
    "# Combine SibSp (siblings and spouses) & Parch (parents & children)\n",
    "train_clean['Family_cnt']=train_clean['SibSp']+train_clean['Parch']\n",
    "test_clean['Family_cnt']=test_clean['SibSp']+test_clean['Parch']"
   ]
  },
  {
   "cell_type": "markdown",
   "metadata": {},
   "source": [
    "#### Convert Sex to numeric"
   ]
  },
  {
   "cell_type": "code",
   "execution_count": null,
   "metadata": {},
   "outputs": [],
   "source": [
    "# Convert Sex to numeric\n",
    "gender_num={'male':0,'female':1}\n",
    "train_clean['Sex']=train_clean['Sex'].map(gender_num)\n",
    "test_clean['Sex']=test_clean['Sex'].map(gender_num)"
   ]
  },
  {
   "cell_type": "markdown",
   "metadata": {},
   "source": [
    "#### Convert Names, Embarked, and Pclass to unique binary arrays"
   ]
  },
  {
   "cell_type": "code",
   "execution_count": null,
   "metadata": {},
   "outputs": [],
   "source": [
    "for col in [\"Cabin\",\"Name\",\"Embarked\",\"Pclass\"]:\n",
    "    train_clean = make_dummies(train_clean,col)\n",
    "    test_clean = make_dummies(test_clean,col)\n",
    "    train_clean.drop(col,axis=1,inplace=True)\n",
    "    test_clean.drop(col,axis=1,inplace=True)\n",
    "    \n",
    "#print(train_clean.head(10))\n",
    "Unique_Cols_Train=(list(set(train_clean.columns.values)))\n",
    "Unique_Cols_Test=(list(set(test_clean.columns.values)))\n",
    "print('The Following Names were not part of the test values so those columns are dropped')\n",
    "for col in Unique_Cols_Train:\n",
    "    if col not in Unique_Cols_Test:\n",
    "        if col != 'Survived':\n",
    "            train_clean.drop(col,axis=1,inplace=True)\n",
    "            print(col)\n",
    "            \n",
    "\n",
    "print('The Following Names were not part of the train values so those columns are dropped')\n",
    "for col in Unique_Cols_Test:\n",
    "    if col not in Unique_Cols_Train:\n",
    "        if col != 'Survived':\n",
    "            test_clean.drop(col,axis=1,inplace=True)\n",
    "            print(col)\n"
   ]
  },
  {
   "cell_type": "code",
   "execution_count": null,
   "metadata": {},
   "outputs": [],
   "source": [
    "# Combine the family size with the average survival rate for that family\n",
    "#size_surv_family_train = train_clean.groupby('Family')['Survived','Family','Family_cnt'].mean()\n",
    "#size_surv_family_train.head()"
   ]
  },
  {
   "cell_type": "markdown",
   "metadata": {},
   "source": [
    "#### Code_Objective_4.1.2.1\n",
    "####   4.1.2.1 Ticket & Passenger ID\n",
    "The Ticket appears random and is assumed to have no relationship with the Survival.  Therefore, Ticket is removed.\n",
    "Also, the PassengerID holds no value because each passenger has a unique number."
   ]
  },
  {
   "cell_type": "code",
   "execution_count": null,
   "metadata": {},
   "outputs": [],
   "source": [
    "train_clean.drop(['Ticket','PassengerId'],axis=1,inplace=True)\n",
    "test_clean.drop(['Ticket','PassengerId'],axis=1,inplace=True)"
   ]
  },
  {
   "cell_type": "markdown",
   "metadata": {},
   "source": [
    "### Figure 2:  Heatmap [training data]"
   ]
  },
  {
   "cell_type": "markdown",
   "metadata": {},
   "source": [
    "The heatmap shows how well correlated each feature is to the other features in the training set.  Before cleaning, some features don't correlate with the Survived feature that much.  For example, the PassengerId doesn't show much correlation at all to the Survived feature, which makes sense because it is the index of the passenger.  "
   ]
  },
  {
   "cell_type": "code",
   "execution_count": null,
   "metadata": {},
   "outputs": [],
   "source": [
    "#fix,ax = plt.subplots(figsize=(25,25))\n",
    "fix,ax = plt.subplots(figsize=(30,30))\n",
    "heatmap_data = train_clean\n",
    "sns.heatmap(heatmap_data.corr(),vmax=1,linewidths=0.01,square=True,annot=True,linecolor=\"white\")\n",
    "bottom,top=ax.get_ylim()\n",
    "ax.set_ylim(bottom+0.5,top-0.5)\n",
    "heatmap_title='Figure 2:  Heatmap with Pearson Correlation Coefficient for Features'\n",
    "ax.set_title(heatmap_title)\n",
    "heatmap_fig=os.path.join(figures_path,'Figure2.Heatmap.png')\n",
    "plt.savefig(heatmap_fig,dpi=300,bbox_inches='tight')\n",
    "plt.show()"
   ]
  },
  {
   "cell_type": "code",
   "execution_count": null,
   "metadata": {},
   "outputs": [],
   "source": [
    "droplist=pd.DataFrame((heatmap_data[heatmap_data.columns[:]].corr().abs()<.1)['Survived'][:-1])\n",
    "droplist=list(droplist.loc[droplist['Survived']==True].index)\n",
    "print(droplist)"
   ]
  },
  {
   "cell_type": "markdown",
   "metadata": {},
   "source": [
    "### Code_Objective_4.2.0\n",
    "###   4.2.0: Drop:  Parch, SibSp, Fare, Age, Fare_Outlier1, Fare_Outlier2\n",
    "From the heatmap,  [Parch, SibSp, Fare, Age, Fare_Outlier1, Fare_Outlier2] shows the least amount \n",
    "of correlation for survival."
   ]
  },
  {
   "cell_type": "code",
   "execution_count": null,
   "metadata": {},
   "outputs": [],
   "source": [
    "#droplist=['Parch','SibSp','Age']\n",
    "train_clean.drop(droplist,axis=1,inplace=True)\n",
    "test_clean.drop(droplist,axis=1,inplace=True)"
   ]
  },
  {
   "cell_type": "markdown",
   "metadata": {},
   "source": [
    "### Figure 3:  Heatmap [training data, cleaned]"
   ]
  },
  {
   "cell_type": "markdown",
   "metadata": {},
   "source": [
    "The heatmap shows how well correlated each feature is to the other features in the training set.  After cleaning, the Survived feature has a higher correlation with the other features used to train a model on it. "
   ]
  },
  {
   "cell_type": "code",
   "execution_count": null,
   "metadata": {},
   "outputs": [],
   "source": [
    "#fix,ax = plt.subplots(figsize=(25,25))\n",
    "fix,ax = plt.subplots(figsize=(30,30))\n",
    "heatmap_data = train_clean\n",
    "sns.heatmap(heatmap_data.corr(),vmax=1,linewidths=0.01,square=True,annot=True,linecolor=\"white\")\n",
    "bottom,top=ax.get_ylim()\n",
    "ax.set_ylim(bottom+0.5,top-0.5)\n",
    "heatmap_title='Figure 3:  Heatmap with Pearson Correlation Coefficient for Features'\n",
    "ax.set_title(heatmap_title)\n",
    "heatmap_fig=os.path.join(figures_path,'Figure3.Heatmap.png')\n",
    "plt.savefig(heatmap_fig,dpi=300,bbox_inches='tight')\n",
    "plt.show()\n"
   ]
  },
  {
   "cell_type": "code",
   "execution_count": null,
   "metadata": {},
   "outputs": [],
   "source": [
    "sqrt_length=math.ceil(len(list(train_clean))**(1/2))\n",
    "ncols=sqrt_length\n",
    "nrows=sqrt_length\n",
    "fig, axes = plt.subplots(ncols=ncols,nrows=nrows,figsize=[30,10])\n",
    "fig.suptitle('Figure 4: Histogram Plot', y=1.05, fontsize=24)\n",
    "fig.tight_layout()\n",
    "for i in range((ncols*nrows-sqrt_length**2)+2):\n",
    "    #print(i)\n",
    "    axes[-1,(i+1)*-1].axis('off')\n",
    "slog_train = train_clean['Survived'] == 1\n",
    "for name, ax in zip(list(train_clean),axes.flat):\n",
    "    x1=train_clean[~slog_train][name]\n",
    "    x2=train_clean[slog_train][name]\n",
    "    labels=['Died','Survived']\n",
    "    ax.hist([x1,x2],label=labels)\n",
    "    #sns.distplot(x1,label='Died',ax=ax)\n",
    "    #sns.distplot(x2,label='Survived',ax=ax)\n",
    "    ax.legend()\n",
    "    ax.set_xlabel(name)\n",
    "    ax.set_ylabel('# of people')\n",
    "    plt.tight_layout()\n",
    "histplot_fig = os.path.join(figures_path,'Figure 4.Histogram Plot.png')\n",
    "plt.savefig(histplot_fig,dpi=300,bbox_inches='tight')"
   ]
  },
  {
   "cell_type": "markdown",
   "metadata": {},
   "source": [
    "# Code_Objective_5\n",
    "# 5:  Machine Learning\n",
    "## Code_Objective_5.0\n",
    "##  5.0 Training Data Split"
   ]
  },
  {
   "cell_type": "code",
   "execution_count": null,
   "metadata": {},
   "outputs": [],
   "source": [
    "features = train_clean.drop('Survived',axis=1)\n",
    "labels = train_clean['Survived']\n",
    "X_train, X_val, y_train, y_val = train_test_split(features,labels, test_size=0.1, random_state=5) #hold out 30% of data\n",
    "X_train = pd.DataFrame(X_train)\n",
    "X_val=pd.DataFrame(X_val)\n",
    "y_train = pd.DataFrame(y_train)\n",
    "y_val=pd.DataFrame(y_val)\n",
    "for dataset in [y_train, y_val]:\n",
    "    print(round(len(dataset),2))\n",
    "    \n",
    "tr_features=X_train\n",
    "tr_labels=y_train\n",
    "\n",
    "val_features = X_val\n",
    "val_labels=y_val"
   ]
  },
  {
   "cell_type": "markdown",
   "metadata": {},
   "source": [
    "#### Function:  print_results"
   ]
  },
  {
   "cell_type": "code",
   "execution_count": null,
   "metadata": {},
   "outputs": [],
   "source": [
    "def print_results(results,name,filename_pr):\n",
    "    with open(filename_pr, mode='w') as file_object:\n",
    "        print(name,file=file_object)\n",
    "        print(name)\n",
    "        print('BEST PARAMS: {}\\n'.format(results.best_params_),file=file_object)\n",
    "        print('BEST PARAMS: {}\\n'.format(results.best_params_))\n",
    "        means = results.cv_results_['mean_test_score']\n",
    "        stds = results.cv_results_['std_test_score']\n",
    "        for mean, std, params in zip(means, stds, results.cv_results_['params']):\n",
    "            print('{} {} (+/-{}) for {}'.format(name,round(mean, 3), round(std * 2, 3), params),file=file_object)\n",
    "            print('{} {} (+/-{}) for {}'.format(name,round(mean, 3), round(std * 2, 3), params))"
   ]
  },
  {
   "cell_type": "markdown",
   "metadata": {},
   "source": [
    "## Code_Objective_5.1\n",
    "## 5.1: Machine Learning          \n"
   ]
  },
  {
   "cell_type": "markdown",
   "metadata": {},
   "source": [
    "In order to find a good model, several algorithms are tested on the training dataset.  A senstivity study using different Hyperparameters of the algorithms are iterated on with GridSearchCV in order optimize each model.  The best model is the one that has the highest accuracy without overfitting by looking at both the training data and the validation data results.  Computer time does not appear to be an issue for these models, so it has little weight on deciding between models.  "
   ]
  },
  {
   "cell_type": "markdown",
   "metadata": {},
   "source": [
    "### Code_Objective_5.1.0\n",
    "### 5.1.0 Hyperparameter using GridSearch CV"
   ]
  },
  {
   "cell_type": "code",
   "execution_count": null,
   "metadata": {},
   "outputs": [],
   "source": [
    "print(GridSearchCV)"
   ]
  },
  {
   "cell_type": "markdown",
   "metadata": {},
   "source": [
    "### GridSearch CV\n",
    "\n",
    "class sklearn.model_selection.GridSearchCV(estimator, param_grid, scoring=None, n_jobs=None, iid='deprecated', refit=True, cv=None, verbose=0, pre_dispatch='2*n_jobs', error_score=nan, return_train_score=False)[source]¶\n",
    "\n",
    "Exhaustive search over specified parameter values for an estimator.\n",
    "\n",
    "Important members are fit, predict.\n",
    "\n",
    "GridSearchCV implements a “fit” and a “score” method. It also implements “predict”, “predict_proba”, “decision_function”, “transform” and “inverse_transform” if they are implemented in the estimator used.\n",
    "\n",
    "The parameters of the estimator used to apply these methods are optimized by cross-validated grid-search over a parameter grid."
   ]
  },
  {
   "cell_type": "markdown",
   "metadata": {},
   "source": [
    "### Code_Objective_5.1.1\n",
    "### 5.1.1:  Logistic Regression Model "
   ]
  },
  {
   "cell_type": "code",
   "execution_count": null,
   "metadata": {
    "scrolled": false
   },
   "outputs": [],
   "source": [
    "print(LogisticRegression())"
   ]
  },
  {
   "cell_type": "markdown",
   "metadata": {},
   "source": [
    "## Logistic Regression:  Hyperparameter used in GridSearchCV\n",
    "### HP1, C:  float, optional (default=1.0)\n",
    "Inverse of regularization strength; must be a positive float. Like in support vector machines, smaller values specify stronger regularization.\n",
    "##### Details\n",
    "Regularization is when a penality is applied with increasing value to prevent overfitting.  The inverse of regularization strength means as the value of C goes up, the value of the regularization strength goes down and vice versa.  \n",
    "##### Values chosen\n",
    "'C': [0.001, 0.01, 0.1, 1, 10, 100, 1000]"
   ]
  },
  {
   "cell_type": "code",
   "execution_count": null,
   "metadata": {},
   "outputs": [],
   "source": [
    "# Make Directory\n",
    "path=folder_path(OUTPUT_path+'/Models/LR')"
   ]
  },
  {
   "cell_type": "code",
   "execution_count": null,
   "metadata": {},
   "outputs": [],
   "source": [
    "LR_model_dir=os.path.join(path,'LR_model.pkl')\n",
    "if os.path.exists(LR_model_dir) == False:\n",
    "    lr = LogisticRegression()\n",
    "    parameters = {\n",
    "            'C': [0.001, 0.01, 0.1, 1, 10, 100, 1000]\n",
    "            }\n",
    "    cv=GridSearchCV(lr, parameters, cv=5)\n",
    "    cv.fit(tr_features,tr_labels.values.ravel())      \n",
    "    print_results(cv,'Logistic Regression (LR)',os.path.join(path,'LR_GridSearchCV_results.txt'))\n",
    "    cv.best_estimator_\n",
    "    joblib.dump(cv.best_estimator_,LR_model_dir)\n",
    "else:\n",
    "    print('Already have LR')"
   ]
  },
  {
   "cell_type": "markdown",
   "metadata": {},
   "source": [
    "### Code_Objective_5.1.2\n",
    "### 5.1.2:  SVM Model"
   ]
  },
  {
   "cell_type": "code",
   "execution_count": null,
   "metadata": {},
   "outputs": [],
   "source": [
    "print(SVC())"
   ]
  },
  {
   "cell_type": "markdown",
   "metadata": {},
   "source": [
    "## Support Vector Machine:  \n",
    "### Hyperparameter used in GridSearchCV\n",
    "#### HP1,  kernelstring, optional (default=’rbf’)\n",
    "Specifies the kernel type to be used in the algorithm. It must be one of ‘linear’, ‘poly’, ‘rbf’, ‘sigmoid’, ‘precomputed’ or a callable. If none is given, ‘rbf’ will be used. If a callable is given it is used to pre-compute the kernel matrix from data matrices; that matrix should be an array of shape (n_samples, n_samples).\n",
    "###### Details\n",
    "A linear kernel type is good when the data is Linearly seperable, which means it can be separated by a single Line.\n",
    "A radial basis function (rbf) kernel type is an expontential function of the squared Euclidean distance between two vectors and a constant.  Since the value of RBF kernel decreases with distance and ranges between zero and one, it has a ready interpretation as a similiarity measure.  \n",
    "###### Values chosen\n",
    "'kernel': ['linear','rbf']\n",
    "\n",
    "#### HP2,  C:  float, optional (default=1.0)\n",
    "Regularization parameter. The strength of the regularization is inversely proportional to C. Must be strictly positive. The penalty is a squared l2 penalty.\n",
    "###### Details\n",
    "Regularization is when a penality is applied with increasing value to prevent overfitting.  The inverse of regularization strength means as the value of C goes up, the value of the regularization strength goes down and vice versa.  \n",
    "###### Values chosen\n",
    "'C': [0.1, 1, 10]"
   ]
  },
  {
   "cell_type": "code",
   "execution_count": null,
   "metadata": {},
   "outputs": [],
   "source": [
    "# Make Directory\n",
    "path=folder_path(OUTPUT_path+'/Models/SVM')"
   ]
  },
  {
   "cell_type": "code",
   "execution_count": null,
   "metadata": {},
   "outputs": [],
   "source": [
    "SVM_model_dir=os.path.join(path,'SVM_model.pkl')\n",
    "if os.path.exists(SVM_model_dir) == False:\n",
    "    svc = SVC()\n",
    "    parameters = {\n",
    "            'kernel': ['linear','rbf'],\n",
    "            'C': [0.1, 1, 10]\n",
    "            }\n",
    "    cv=GridSearchCV(svc,parameters, cv=5)\n",
    "    cv.fit(tr_features, tr_labels.values.ravel())\n",
    "    print_results(cv,'Support Vector Machine (SVM)',os.path.join(path,'SVM_GridSearchCV_results.txt'))\n",
    "    cv.best_estimator_\n",
    "    joblib.dump(cv.best_estimator_,SVM_model_dir)\n",
    "else:\n",
    "    print('Already have SVM')"
   ]
  },
  {
   "cell_type": "markdown",
   "metadata": {},
   "source": [
    "### Code_Objective_5.1.3\n",
    "### 5.1.3: MLP Model"
   ]
  },
  {
   "cell_type": "code",
   "execution_count": null,
   "metadata": {},
   "outputs": [],
   "source": [
    "print(MLPClassifier())"
   ]
  },
  {
   "cell_type": "markdown",
   "metadata": {},
   "source": [
    "## Neural Network:  \n",
    "### Hyperparameter used in GridSearchCV\n",
    "#### HP1, hidden_layer_sizes:  tuple, length = n_layers - 2, default (100,)\n",
    "The ith element represents the number of neurons in the ith hidden layer.\n",
    "###### Details\n",
    "A rule of thumb is (2/3)*(# of input features) = neurons per hidden layer. \n",
    "###### Values chosen\n",
    "'hidden_layer_sizes': [(10,),(50,),(100,)]\n",
    "\n",
    "#### HP2, activation:  {‘identity’, ‘logistic’, ‘tanh’, ‘relu’}, default ‘relu’\n",
    "Activation function for the hidden layer.\n",
    "###### Details\n",
    "* ‘identity’, no-op activation, useful to implement linear bottleneck, returns f(x) = x\n",
    "* ‘logistic’, the logistic sigmoid function, returns f(x) = 1 / (1 + exp(-x)).\n",
    "* ‘tanh’, the hyperbolic tan function, returns f(x) = tanh(x).\n",
    "* ‘relu’, the rectified linear unit function, returns f(x) = max(0, x)   \n",
    "\n",
    "###### Values chosen\n",
    "'activation': ['relu','tanh','logistic'],\n",
    "\n",
    "#### HP3, learning_rate:  {‘constant’, ‘invscaling’, ‘adaptive’}, default ‘constant’\n",
    "Learning rate schedule for weight updates.\n",
    "###### Details\n",
    "* ‘constant’ is a constant learning rate given by ‘learning_rate_init’.\n",
    "* ‘invscaling’ gradually decreases the learning rate at each time step ‘t’ using an inverse scaling exponent of ‘power_t’. effective_learning_rate = learning_rate_init / pow(t, power_t)\n",
    "* ‘adaptive’ keeps the learning rate constant to ‘learning_rate_init’ as long as training loss keeps decreasing. Each time two consecutive epochs fail to decrease training loss by at least tol, or fail to increase validation score by at least tol if ‘early_stopping’ is on, the current learning rate is divided by 5.\n",
    "\n",
    "Only used when solver='sgd'.\n",
    "  \n",
    "###### Values chosen\n",
    "'learning_rate': ['constant','invscaling','adaptive']"
   ]
  },
  {
   "cell_type": "code",
   "execution_count": null,
   "metadata": {},
   "outputs": [],
   "source": [
    "# Make Directory\n",
    "path=folder_path(OUTPUT_path+'/Models/MLP')"
   ]
  },
  {
   "cell_type": "code",
   "execution_count": null,
   "metadata": {},
   "outputs": [],
   "source": [
    "MLP_model_dir=os.path.join(path,'MLP_model.pkl')\n",
    "if os.path.exists(MLP_model_dir) == False:\n",
    "    mlp = MLPClassifier()\n",
    "    parameters = {\n",
    "            'hidden_layer_sizes': [(100,)],\n",
    "            'activation': ['relu','tanh','logistic'],\n",
    "            'learning_rate': ['constant','invscaling','adaptive']\n",
    "            }\n",
    "    cv=GridSearchCV(mlp, parameters, cv=5)\n",
    "    cv.fit(tr_features, tr_labels.values.ravel())\n",
    "    print_results(cv,'Neural Network (MLP)',os.path.join(path,'MLP_GridSearchCV_results.txt'))\n",
    "    cv.best_estimator_\n",
    "    joblib.dump(cv.best_estimator_,MLP_model_dir)\n",
    "else:\n",
    "    print('Already have MLP')"
   ]
  },
  {
   "cell_type": "markdown",
   "metadata": {},
   "source": [
    "### Code_Objective_5.1.4\n",
    "### 5.1.4: RF Model"
   ]
  },
  {
   "cell_type": "code",
   "execution_count": null,
   "metadata": {},
   "outputs": [],
   "source": [
    "print(RandomForestClassifier())"
   ]
  },
  {
   "cell_type": "markdown",
   "metadata": {},
   "source": [
    "## Random Forest:  \n",
    "### Hyperparameter used in GridSearchCV\n",
    "#### HP1, n_estimators:  integer, optional (default=100)\n",
    "The number of trees in the forest.\n",
    "\n",
    "Changed in version 0.22: The default value of n_estimators changed from 10 to 100 in 0.22.\n",
    "###### Details\n",
    "Usually 500 does the trick and the accuracy and out of bag error doesn't change much after. \n",
    "###### Values chosen\n",
    "'n_estimators': [500],\n",
    "\n",
    "#### HP2, max_depth:  integer or None, optional (default=None)\n",
    "The maximum depth of the tree. If None, then nodes are expanded until all leaves are pure or until all leaves contain less than min_samples_split samples.\n",
    "###### Details\n",
    "None usually does the trick, but a few shallow trees are tested. \n",
    "###### Values chosen\n",
    "'max_depth': [5,7,9, None]"
   ]
  },
  {
   "cell_type": "code",
   "execution_count": null,
   "metadata": {},
   "outputs": [],
   "source": [
    "# Make Directory\n",
    "path=folder_path(OUTPUT_path+'/Models/RF')"
   ]
  },
  {
   "cell_type": "code",
   "execution_count": null,
   "metadata": {},
   "outputs": [],
   "source": [
    "RF_model_dir=os.path.join(path,'RF_model.pkl')\n",
    "if os.path.exists(RF_model_dir) == False:\n",
    "    rf = RandomForestClassifier(oob_score=False)\n",
    "    parameters = {\n",
    "            'n_estimators': [500],\n",
    "            'max_depth': [1,None]\n",
    "            }\n",
    "    cv = GridSearchCV(rf, parameters, cv=5)\n",
    "    cv.fit(tr_features, tr_labels.values.ravel())\n",
    "    print_results(cv,'Random Forest (RF)',os.path.join(path,'RF_GridSearchCV_results.txt'))\n",
    "    cv.best_estimator_\n",
    "    joblib.dump(cv.best_estimator_,RF_model_dir)\n",
    "else:\n",
    "    print('Already have RF')"
   ]
  },
  {
   "cell_type": "markdown",
   "metadata": {},
   "source": [
    "### Code_Objective_5.1.5\n",
    "### 5.1.5: GB Model"
   ]
  },
  {
   "cell_type": "code",
   "execution_count": null,
   "metadata": {},
   "outputs": [],
   "source": [
    "print(GradientBoostingClassifier())"
   ]
  },
  {
   "cell_type": "markdown",
   "metadata": {},
   "source": [
    "## Gradient Boosting:  \n",
    "### Hyperparameter used in GridSearchCV\n",
    "#### HP1, n_estimators:  int (default=100)\n",
    "The number of boosting stages to perform. Gradient boosting is fairly robust to over-fitting so a large number usually results in better performance.\n",
    "###### Details\n",
    "Usually 500 does the trick and the accuracy and out of bag error doesn't change much after. \n",
    "###### Values chosen\n",
    "'n_estimators': [5, 50, 250, 500],\n",
    "\n",
    "#### HP2, max_depth:  integer, optional (default=3)\n",
    "maximum depth of the individual regression estimators. The maximum depth limits the number of nodes in the tree. Tune this parameter for best performance; the best value depends on the interaction of the input variables.\n",
    "###### Details\n",
    "A variety of shallow trees are tested. \n",
    "###### Values chosen\n",
    "'max_depth': [1, 3, 5, 7, 9],\n",
    "\n",
    "#### HP3, learning_rate:  float, optional (default=0.1)\n",
    "learning rate shrinks the contribution of each tree by learning_rate. There is a trade-off between learning_rate and n_estimators.\n",
    "###### Details\n",
    "A variety was chosen because of the trade-off.\n",
    "###### Values chosen\n",
    "'learning_rate': [0.01, 0.1, 1]"
   ]
  },
  {
   "cell_type": "code",
   "execution_count": null,
   "metadata": {},
   "outputs": [],
   "source": [
    "# Make Directory\n",
    "path=folder_path(OUTPUT_path+'/Models/GB')"
   ]
  },
  {
   "cell_type": "code",
   "execution_count": null,
   "metadata": {},
   "outputs": [],
   "source": [
    "GB_model_dir=os.path.join(path,'GB_model.pkl')\n",
    "if os.path.exists(GB_model_dir) == False:\n",
    "    gb = GradientBoostingClassifier()\n",
    "    parameters = {\n",
    "            'n_estimators': [500],\n",
    "            'max_depth': [1],\n",
    "            'learning_rate': [0.01, 0.1, 1]\n",
    "            }\n",
    "    cv=GridSearchCV(gb, parameters, cv=5)\n",
    "    cv.fit(tr_features, tr_labels.values.ravel())\n",
    "    print_results(cv,'Gradient Boost (GB)',os.path.join(path,'GR_GridSearchCV_results.txt'))\n",
    "    cv.best_estimator_\n",
    "    joblib.dump(cv.best_estimator_,GB_model_dir)\n",
    "else:\n",
    "    print('Already have GB') "
   ]
  },
  {
   "cell_type": "markdown",
   "metadata": {},
   "source": [
    "### Code_Objective_5.1.6\n",
    "### 5.1.6: XGB Model"
   ]
  },
  {
   "cell_type": "code",
   "execution_count": null,
   "metadata": {},
   "outputs": [],
   "source": [
    "print(XGBClassifier())"
   ]
  },
  {
   "cell_type": "markdown",
   "metadata": {},
   "source": [
    "## eXtreme Gradient Boosting:  \n",
    "### Hyperparameter used in GridSearchCV\n",
    "#### HP1, n_estimators:  (int) – Number of trees to fit.\n",
    "###### Details\n",
    "Usually 500 does the trick and the accuracy and out of bag error doesn't change much after. \n",
    "###### Values chosen\n",
    "'n_estimators': [5, 50, 250, 500],\n",
    "\n",
    "#### HP2, max_depth:  (int) – \n",
    "Maximum tree depth for base learners.\n",
    "###### Details\n",
    "A variety of shallow trees are tested. \n",
    "###### Values chosen\n",
    "'max_depth': [1, 3, 5, 7, 9],\n",
    "\n",
    "#### HP3, learning_rate: (float) – \n",
    "Boosting learning rate (xgb’s “eta”)\n",
    "###### Details\n",
    "A variety was chosen because of the trade-off.\n",
    "###### Values chosen\n",
    "'learning_rate': [0.01, 0.1, 1]"
   ]
  },
  {
   "cell_type": "code",
   "execution_count": null,
   "metadata": {},
   "outputs": [],
   "source": [
    "# Make Directory\n",
    "path=folder_path(OUTPUT_path+'/Models/XGB')"
   ]
  },
  {
   "cell_type": "code",
   "execution_count": null,
   "metadata": {},
   "outputs": [],
   "source": [
    "XGB_model_dir=os.path.join(path,'XGB_model.pkl')\n",
    "if os.path.exists(XGB_model_dir) == False:\n",
    "    xgb = XGBClassifier()\n",
    "    parameters = {\n",
    "            'n_estimators': [500],\n",
    "            'max_depth': [1],\n",
    "            'learning_rate': [0.01, 0.1, 1]\n",
    "            }\n",
    "    cv=GridSearchCV(xgb, parameters, cv=5)\n",
    "    cv.fit(tr_features, tr_labels.values.ravel())\n",
    "    print_results(cv,'eXtreme Gradient Boost (XGB)',os.path.join(path,'XGB_GridSearchCV_results.txt'))\n",
    "    cv.best_estimator_\n",
    "    joblib.dump(cv.best_estimator_,XGB_model_dir)\n",
    "else:\n",
    "    print('Already have XGB')  "
   ]
  },
  {
   "cell_type": "markdown",
   "metadata": {},
   "source": [
    "## Code_Objective_5.2\n",
    "## 5.2: Evaluate Models\n"
   ]
  },
  {
   "cell_type": "code",
   "execution_count": null,
   "metadata": {},
   "outputs": [],
   "source": [
    "## all models\n",
    "models = {}\n",
    "\n",
    "#for mdl in ['LR', 'SVM', 'MLP', 'RF', 'GB','XGB']:\n",
    "for mdl in ['LR', 'SVM','MLP', 'RF', 'GB','XGB']:\n",
    "    model_path=os.path.join(OUTPUT_path,'Models/{}/{}_model.pkl')\n",
    "    models[mdl] = joblib.load(model_path.format(mdl,mdl))"
   ]
  },
  {
   "cell_type": "markdown",
   "metadata": {},
   "source": [
    "#### Function:  evaluate_model"
   ]
  },
  {
   "cell_type": "code",
   "execution_count": null,
   "metadata": {},
   "outputs": [],
   "source": [
    "def evaluate_model(fig_path,name, model, features, labels, y_test_ev, fc):\n",
    "        CM_fig=os.path.join(fig_path,'Figure{}.A_{}_Confusion_Matrix.png'.format(fc,name))\n",
    "        VI_fig=os.path.join(fig_path,'Figure{}.B_{}_Variable_Importance_Plot.png'.format(fc,name))\n",
    "        \n",
    "        start = time()\n",
    "        pred = model.predict(features)\n",
    "        end = time()\n",
    "        y_truth=y_test_ev\n",
    "        accuracy = round(accuracy_score(labels, pred), 3)\n",
    "        precision = round(precision_score(labels, pred), 3)\n",
    "        recall = round(recall_score(labels, pred), 3)\n",
    "        print('{} -- Accuracy: {} / Precision: {} / Recall: {} / Latency: {}ms'.format(name,\n",
    "                                                                                       accuracy,\n",
    "                                                                                       precision,\n",
    "                                                                                       recall,\n",
    "                                                                                       round((end - start)*1000, 1)))\n",
    "        \n",
    "        \n",
    "        pred=pd.DataFrame(pred)\n",
    "        pred.columns=['Survived']\n",
    "        # Convert Diagnosis for Cancer from Binary to Categorical\n",
    "        diagnosis_name={0:'Died',1:'Lived'}\n",
    "        y_truth['Survived']=y_truth['Survived'].map(diagnosis_name)\n",
    "        pred['Survived']=pred['Survived'].map(diagnosis_name)\n",
    "        class_names = ['Died','Lived']        \n",
    "        cm = confusion_matrix(y_test_ev, pred, class_names)\n",
    "        \n",
    "        FP_L='False Positive'\n",
    "        FP = cm[0][1]\n",
    "        FN_L='False Negative'\n",
    "        FN = cm[1][0]\n",
    "        TP_L='True Positive'\n",
    "        TP = cm[1][1]\n",
    "        TN_L='True Negative'\n",
    "        TN = cm[0][0]\n",
    "\n",
    "        #TPR_L= 'Sensitivity, hit rate, recall, or true positive rate'\n",
    "        TPR_L= 'Sensitivity'\n",
    "        TPR = round(TP/(TP+FN),3)\n",
    "        #TNR_L= 'Specificity or true negative rate'\n",
    "        TNR_L= 'Specificity'\n",
    "        TNR = round(TN/(TN+FP),3) \n",
    "        #PPV_L= 'Precision or positive predictive value'\n",
    "        PPV_L= 'Precision'\n",
    "        PPV = round(TP/(TP+FP),3)\n",
    "        #NPV_L= 'Negative predictive value'\n",
    "        NPV_L= 'NPV'\n",
    "        NPV = round(TN/(TN+FN),3)\n",
    "        #FPR_L= 'Fall out or false positive rate'\n",
    "        FPR_L= 'FPR'\n",
    "        FPR = round(FP/(FP+TN),3)\n",
    "        #FNR_L= 'False negative rate'\n",
    "        FNR_L= 'FNR'\n",
    "        FNR = round(FN/(TP+FN),3)\n",
    "        #FDR_L= 'False discovery rate'\n",
    "        FDR_L= 'FDR'\n",
    "        FDR = round(FP/(TP+FP),3)\n",
    "\n",
    "        ACC_L= 'Accuracy'\n",
    "        ACC = round((TP+TN)/(TP+FP+FN+TN),3)\n",
    "        \n",
    "        stats_data = {'Name':name,\n",
    "                     ACC_L:ACC,\n",
    "                     FP_L:FP,\n",
    "                     FN_L:FN,\n",
    "                     TP_L:TP,\n",
    "                     TN_L:TN,\n",
    "                     TPR_L:TPR,\n",
    "                     TNR_L:TNR,\n",
    "                     PPV_L:PPV,\n",
    "                     NPV_L:NPV,\n",
    "                     FPR_L:FPR,\n",
    "                     FNR_L:FDR}\n",
    "        fig = plt.figure()\n",
    "        ax = fig.add_subplot(111)\n",
    "        cax = ax.matshow(cm,cmap=plt.cm.gray_r)\n",
    "        plt.title('Figure {}.A: {} Confusion Matrix on Unseen Test Data'.format(fc,name),y=1.08)\n",
    "        fig.colorbar(cax)\n",
    "        ax.set_xticklabels([''] + class_names)\n",
    "        ax.set_yticklabels([''] + class_names)\n",
    "        # Loop over data dimensions and create text annotations.\n",
    "        for i in range(len(class_names)):\n",
    "            for j in range(len(class_names)):\n",
    "                text = ax.text(j, i, cm[i, j],\n",
    "                               ha=\"center\", va=\"center\", color=\"b\")\n",
    "        plt.xlabel('Predicted')\n",
    "        plt.ylabel('True')\n",
    "        plt.savefig(CM_fig,dpi=400,bbox_inches='tight')\n",
    "        #plt.show()\n",
    "        \n",
    "        if  name == 'RF' or name == 'GB' or name == 'XGB': \n",
    "            # Get numerical feature importances\n",
    "            importances = list(model.feature_importances_)\n",
    "            importances=100*(importances/max(importances))               \n",
    "            feature_list = list(features.columns)\n",
    "            sorted_ID=np.argsort(importances)   \n",
    "            plt.figure(figsize=[10,10])\n",
    "            plt.barh(sort_list(feature_list,importances),importances[sorted_ID],align='center')\n",
    "            plt.title('Figure {}.B: {} Variable Importance Plot'.format(fc,name))\n",
    "            plt.xlabel('Relative Importance')\n",
    "            plt.ylabel('Feature') \n",
    "            plt.savefig(VI_fig,dpi=300,bbox_inches='tight')\n",
    "            #plt.show()\n",
    "        \n",
    "        return accuracy,name, model, stats_data"
   ]
  },
  {
   "cell_type": "markdown",
   "metadata": {},
   "source": [
    "#### Function:  sort_list"
   ]
  },
  {
   "cell_type": "code",
   "execution_count": null,
   "metadata": {},
   "outputs": [],
   "source": [
    "    def sort_list(list1, list2): \n",
    "        zipped_pairs = zip(list2, list1)   \n",
    "        z = [x for _, x in sorted(zipped_pairs)]       \n",
    "        return z "
   ]
  },
  {
   "cell_type": "markdown",
   "metadata": {},
   "source": [
    "# Search for best model"
   ]
  },
  {
   "cell_type": "code",
   "execution_count": null,
   "metadata": {
    "scrolled": true
   },
   "outputs": [],
   "source": [
    "ev_accuracy=[None]*len(models)\n",
    "ev_name=[None]*len(models)\n",
    "ev_model=[None]*len(models)\n",
    "ev_stats=[None]*len(models)\n",
    "count=1\n",
    "ax2 = plt.gca()\n",
    "plt.title('Figure 11.  Receiver Operating Characteristic (ROC) Curve')\n",
    "for name, mdl in models.items():\n",
    "        y_test_ev=val_labels\n",
    "        ev_accuracy[count-1],ev_name[count-1],ev_model[count-1], ev_stats[count-1] = evaluate_model(figures_path,\n",
    "                                                                                                    name,\n",
    "                                                                                                    mdl,\n",
    "                                                                                                    val_features,\n",
    "                                                                                                    val_labels,\n",
    "                                                                                                    y_test_ev,\n",
    "                                                                                                    count+4)\n",
    "        diagnosis_name={'Died':0,'Lived':1}\n",
    "        val_labels['Survived']=val_labels['Survived'].map(diagnosis_name)\n",
    "        plot_disp = plot_roc_curve(mdl,val_features,val_labels,ax=ax2,alpha=0.8)\n",
    "            \n",
    "        count=count+1\n",
    "plt.savefig(os.path.join(figures_path,'Figure11.png'),dpi=300,bbox_inches='tight')\n"
   ]
  },
  {
   "cell_type": "code",
   "execution_count": null,
   "metadata": {},
   "outputs": [],
   "source": [
    "best_name=ev_name[ev_accuracy.index(max(ev_accuracy))]    #picks the maximum accuracy\n",
    "print('Best Model:',best_name,'with Accuracy of ',max(ev_accuracy))   \n",
    "best_model=ev_model[ev_accuracy.index(max(ev_accuracy))]    #picks the maximum accuracy\n",
    "\n",
    "if best_name == 'RF' or best_name == 'GB' or best_name == 'XGB': \n",
    "    # Get numerical feature importances\n",
    "    importances = list(best_model.feature_importances_)\n",
    "    importances=100*(importances/max(importances))               \n",
    "    feature_list = list(val_features.columns)\n",
    "    sorted_ID=np.argsort(importances)   \n",
    "    plt.figure(figsize=[10,10])\n",
    "    plt.barh(sort_list(feature_list,importances),importances[sorted_ID],align='center')\n",
    "    plt.title('Figure 12:  Variable Importance Plot -- {}'.format(best_name))\n",
    "    plt.xlabel('Relative Importance')\n",
    "    plt.ylabel('Feature') \n",
    "    plt.savefig(os.path.join(figures_path,'Figure12.png'),dpi=300,bbox_inches='tight')\n",
    "    plt.show()"
   ]
  },
  {
   "cell_type": "markdown",
   "metadata": {},
   "source": [
    "All of the models were similar, therefore only the highest accuracy model was chosen.  The variable importance plot shows the feature importance, which is similar to the intensities of the heatmaps previously. "
   ]
  },
  {
   "cell_type": "markdown",
   "metadata": {},
   "source": [
    "## Code_Objective_5.3\n",
    "## 5.3: Predict with Best Model"
   ]
  },
  {
   "cell_type": "markdown",
   "metadata": {},
   "source": [
    "#### Function:  predict_model"
   ]
  },
  {
   "cell_type": "code",
   "execution_count": null,
   "metadata": {},
   "outputs": [],
   "source": [
    "def predict_model(name, model, features):\n",
    "    pred = model.predict(features)\n",
    "    return pred"
   ]
  },
  {
   "cell_type": "code",
   "execution_count": null,
   "metadata": {},
   "outputs": [],
   "source": [
    "for name, mdl in models.items():\n",
    "        y_pred=predict_model(best_name,mdl,pd.DataFrame(test_clean))\n",
    "y_pred=pd.DataFrame(y_pred)\n",
    "\n",
    "try:\n",
    "    test= pd.read_csv('/kaggle/input/titanic/test.csv')\n",
    "except OSError:\n",
    "    print (\"Input file not found at location:\",'/kaggle/input/titanic/test.csv')\n",
    "    INPUT_path=currentDirectory+'/Inputs'\n",
    "    test_path=os.path.join(INPUT_path,'test.csv')\n",
    "    test= pd.read_csv(test_path)\n",
    "    print (\"Successfully loaded Input file from:\",INPUT_path)\n",
    "else:\n",
    "    print (\"Successfully loaded Input file from Kaggle:\")\n",
    "\n",
    "test.head(10) #notice Survival is NOT provided for test dataset\n",
    "Kaggle_Submission=test\n",
    "Kaggle_Submission['Survived']=y_pred.astype(int)\n",
    "Kaggle_Submission=Kaggle_Submission[['PassengerId','Survived']]"
   ]
  },
  {
   "cell_type": "markdown",
   "metadata": {},
   "source": [
    "# Code_Objective_7\n",
    "# 7: Export Results for Kaggle Competition "
   ]
  },
  {
   "cell_type": "code",
   "execution_count": null,
   "metadata": {},
   "outputs": [],
   "source": [
    "Kaggle_Submission_path=os.path.join(currentDirectory,'Kaggle_Submission_Steven_Smiley.csv')\n",
    "Kaggle_Submission.to_csv(Kaggle_Submission_path,index=False)"
   ]
  },
  {
   "cell_type": "code",
   "execution_count": null,
   "metadata": {},
   "outputs": [],
   "source": []
  }
 ],
 "metadata": {
  "kernelspec": {
   "display_name": "Python 3",
   "language": "python",
   "name": "python3"
  },
  "language_info": {
   "codemirror_mode": {
    "name": "ipython",
    "version": 3
   },
   "file_extension": ".py",
   "mimetype": "text/x-python",
   "name": "python",
   "nbconvert_exporter": "python",
   "pygments_lexer": "ipython3",
   "version": "3.7.4"
  }
 },
 "nbformat": 4,
 "nbformat_minor": 1
}
