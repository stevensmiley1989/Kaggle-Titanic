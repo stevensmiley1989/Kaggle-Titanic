{
 "cells": [
  {
   "cell_type": "markdown",
   "metadata": {},
   "source": [
    "# Steven Smiley's Kaggle Competition for the Titanic Dataset Notebook:\n",
    "* ## Data Cleaning, Data Exploring, Feature Extraction\n",
    "* ## Machine Learning, Supervised \n",
    "* ### PCA, Random Forest, Neural Networks, Logistic Regression, Support Vector Machine, Gradient Boosting, eXtreme Gradient Boosting\n",
    "    \"\"\"\n",
    "    Created on Fri Dec 27 20:58:05 2019\n",
    "\n",
    "    @author: stevensmiley\n",
    "\n",
    "    Kaggle Competition Project Description: \n",
    "\n",
    "       This code by Steven Smiley is for\n",
    "       evaluating the \"Titanic: Machine Learning from Disaster\" dataset from Kaggle.\n",
    "\n",
    "       Two datasets were given for the competition:\n",
    "       1) test.csv\n",
    "       2) train.csv\n",
    "\n",
    "       The \"train.csv\" dataset is used to create a model \n",
    "       to predict Survival Rate with the \"test.csv\" dataset."
   ]
  },
  {
   "cell_type": "markdown",
   "metadata": {},
   "source": [
    "# Table of Contents (TOC)"
   ]
  },
  {
   "cell_type": "markdown",
   "metadata": {},
   "source": [
    "*     Code Objective 1:  Import Libraries\n",
    "*     Code Objective 2:  Hide Future Warnings\n",
    "*     Code Objective 3:  Get Current Directory\n",
    "*     Code Objective 4:  Import Data and View Data\n",
    "*     Code Objective 5:  Explore Data, Clean Data, Feature Extraction\n",
    "                      5.0:  Explore Data\n",
    "                         5.0.0: Explore Data:  Copy Data\n",
    "                         5.0.1: Explore Data:  Find Missing Values\n",
    "                         5.0.2: Explore Data: Fix Missing Values\n",
    "                             5.0.2.1: Explore Data: Fix Missing Values: Age\n",
    "                             5.0.2.2: Explore Data: Fix Missing Values: Cabin\n",
    "                             5.0.2.3: Explore Data: Fix Missing Values: Embarked\n",
    "                             5.0.2.4: Explore Data: Fix Missing Values: Fare\n",
    "                             5.0.2.5: Explore Data: Verify No Missing Values: Fare\n",
    "                      5.1:  Data Cleaning:\n",
    "                         5.1.0:  Data Cleaning:  Change Name to Prefix\n",
    "                         5.1.1:  Data Cleaning: Convert Categorical Variables to Continuous\n",
    "                             5.1.1.1: Data Cleaning: Convert Categorical Variables to Continuous: Embarked, Sex, Name\n",
    "                            5.1.2.1: Data Cleaning: Convert Categorical Variables to Continuous: Ticket\n",
    "                        5.2.0:  Data Cleaning:  Drop:  PassengerId, Embarked, Parch, SibSp\n",
    "                        5.3.0:  Feature Extraction:  Principal Component Analysis: PC1_zscore, PC2_zscore, PC1, PC2\n",
    "*     Code Objective 6:  Machine Learning\n",
    "                     6.0:  Machine Learning: training data split\n",
    "                     6.1:  Machine Learning: Models           \n",
    "                        6.1.1:  Machine Learning: Models: Logistic Regression Model\n",
    "                        6.1.2:  Machine Learning: Models: SVM Model\n",
    "                        6.1.3:  Machine Learning: Models: MLP Model\n",
    "                        6.1.4:  Machine Learning: Models: RF Model\n",
    "                        6.1.5:  Machine Learning: Models: GB Model\n",
    "                        6.1.6:  Machine Learning: Models: XGB Model\n",
    "                     6.2:  Machine Learning: Evaluate Models\n",
    "                     6.3:  Machine Learning: Predict with Best Model\n",
    "*     Code Objective 7: Export Results for Kaggle Competition \n",
    "                        \n",
    "\n",
    "\"\"\""
   ]
  },
  {
   "cell_type": "markdown",
   "metadata": {},
   "source": [
    "# Code Objective 1:  Import Libraries"
   ]
  },
  {
   "cell_type": "code",
   "execution_count": 1,
   "metadata": {
    "_cell_guid": "79c7e3d0-c299-4dcb-8224-4455121ee9b0",
    "_uuid": "d629ff2d2480ee46fbb7e2d37f6b5fab8052498a"
   },
   "outputs": [],
   "source": [
    "import warnings\n",
    "import os # Get Current Directory\n",
    "from sklearn.model_selection import train_test_split\n",
    "from sklearn.model_selection import GridSearchCV\n",
    "from sklearn.metrics import accuracy_score, precision_score, recall_score\n",
    "import pandas as pd # data processing, CSV file I/O (e.i. pd.read_csv)\n",
    "import numpy as np\n",
    "import matplotlib.pyplot as plt\n",
    "import seaborn as sns\n",
    "import joblib\n",
    "from time import time\n",
    "from sklearn.linear_model import LogisticRegression\n",
    "from sklearn.svm import SVC\n",
    "from sklearn.neural_network import MLPClassifier\n",
    "from sklearn.ensemble import RandomForestClassifier\n",
    "from sklearn.ensemble import GradientBoostingClassifier\n",
    "from xgboost import XGBClassifier\n",
    "from sklearn.decomposition import PCA\n",
    "from scipy import stats"
   ]
  },
  {
   "cell_type": "markdown",
   "metadata": {},
   "source": [
    "# Code Objective 2.0:  Hide Warnings"
   ]
  },
  {
   "cell_type": "code",
   "execution_count": 2,
   "metadata": {},
   "outputs": [],
   "source": [
    "warnings.filterwarnings(\"ignore\")\n",
    "pd.set_option('mode.chained_assignment', None)"
   ]
  },
  {
   "cell_type": "markdown",
   "metadata": {},
   "source": [
    "# Code Objective 3.0: Get Current Directory "
   ]
  },
  {
   "cell_type": "code",
   "execution_count": 3,
   "metadata": {},
   "outputs": [],
   "source": [
    "currentDirectory=os.getcwd()"
   ]
  },
  {
   "cell_type": "markdown",
   "metadata": {},
   "source": [
    "# Code Objective 4.0 Import Data and View Data"
   ]
  },
  {
   "cell_type": "code",
   "execution_count": 4,
   "metadata": {},
   "outputs": [
    {
     "data": {
      "text/html": [
       "<div>\n",
       "<style scoped>\n",
       "    .dataframe tbody tr th:only-of-type {\n",
       "        vertical-align: middle;\n",
       "    }\n",
       "\n",
       "    .dataframe tbody tr th {\n",
       "        vertical-align: top;\n",
       "    }\n",
       "\n",
       "    .dataframe thead th {\n",
       "        text-align: right;\n",
       "    }\n",
       "</style>\n",
       "<table border=\"1\" class=\"dataframe\">\n",
       "  <thead>\n",
       "    <tr style=\"text-align: right;\">\n",
       "      <th></th>\n",
       "      <th>PassengerId</th>\n",
       "      <th>Pclass</th>\n",
       "      <th>Name</th>\n",
       "      <th>Sex</th>\n",
       "      <th>Age</th>\n",
       "      <th>SibSp</th>\n",
       "      <th>Parch</th>\n",
       "      <th>Ticket</th>\n",
       "      <th>Fare</th>\n",
       "      <th>Cabin</th>\n",
       "      <th>Embarked</th>\n",
       "    </tr>\n",
       "  </thead>\n",
       "  <tbody>\n",
       "    <tr>\n",
       "      <th>0</th>\n",
       "      <td>892</td>\n",
       "      <td>3</td>\n",
       "      <td>Kelly, Mr. James</td>\n",
       "      <td>male</td>\n",
       "      <td>34.5</td>\n",
       "      <td>0</td>\n",
       "      <td>0</td>\n",
       "      <td>330911</td>\n",
       "      <td>7.8292</td>\n",
       "      <td>NaN</td>\n",
       "      <td>Q</td>\n",
       "    </tr>\n",
       "    <tr>\n",
       "      <th>1</th>\n",
       "      <td>893</td>\n",
       "      <td>3</td>\n",
       "      <td>Wilkes, Mrs. James (Ellen Needs)</td>\n",
       "      <td>female</td>\n",
       "      <td>47.0</td>\n",
       "      <td>1</td>\n",
       "      <td>0</td>\n",
       "      <td>363272</td>\n",
       "      <td>7.0000</td>\n",
       "      <td>NaN</td>\n",
       "      <td>S</td>\n",
       "    </tr>\n",
       "    <tr>\n",
       "      <th>2</th>\n",
       "      <td>894</td>\n",
       "      <td>2</td>\n",
       "      <td>Myles, Mr. Thomas Francis</td>\n",
       "      <td>male</td>\n",
       "      <td>62.0</td>\n",
       "      <td>0</td>\n",
       "      <td>0</td>\n",
       "      <td>240276</td>\n",
       "      <td>9.6875</td>\n",
       "      <td>NaN</td>\n",
       "      <td>Q</td>\n",
       "    </tr>\n",
       "    <tr>\n",
       "      <th>3</th>\n",
       "      <td>895</td>\n",
       "      <td>3</td>\n",
       "      <td>Wirz, Mr. Albert</td>\n",
       "      <td>male</td>\n",
       "      <td>27.0</td>\n",
       "      <td>0</td>\n",
       "      <td>0</td>\n",
       "      <td>315154</td>\n",
       "      <td>8.6625</td>\n",
       "      <td>NaN</td>\n",
       "      <td>S</td>\n",
       "    </tr>\n",
       "    <tr>\n",
       "      <th>4</th>\n",
       "      <td>896</td>\n",
       "      <td>3</td>\n",
       "      <td>Hirvonen, Mrs. Alexander (Helga E Lindqvist)</td>\n",
       "      <td>female</td>\n",
       "      <td>22.0</td>\n",
       "      <td>1</td>\n",
       "      <td>1</td>\n",
       "      <td>3101298</td>\n",
       "      <td>12.2875</td>\n",
       "      <td>NaN</td>\n",
       "      <td>S</td>\n",
       "    </tr>\n",
       "    <tr>\n",
       "      <th>5</th>\n",
       "      <td>897</td>\n",
       "      <td>3</td>\n",
       "      <td>Svensson, Mr. Johan Cervin</td>\n",
       "      <td>male</td>\n",
       "      <td>14.0</td>\n",
       "      <td>0</td>\n",
       "      <td>0</td>\n",
       "      <td>7538</td>\n",
       "      <td>9.2250</td>\n",
       "      <td>NaN</td>\n",
       "      <td>S</td>\n",
       "    </tr>\n",
       "    <tr>\n",
       "      <th>6</th>\n",
       "      <td>898</td>\n",
       "      <td>3</td>\n",
       "      <td>Connolly, Miss. Kate</td>\n",
       "      <td>female</td>\n",
       "      <td>30.0</td>\n",
       "      <td>0</td>\n",
       "      <td>0</td>\n",
       "      <td>330972</td>\n",
       "      <td>7.6292</td>\n",
       "      <td>NaN</td>\n",
       "      <td>Q</td>\n",
       "    </tr>\n",
       "    <tr>\n",
       "      <th>7</th>\n",
       "      <td>899</td>\n",
       "      <td>2</td>\n",
       "      <td>Caldwell, Mr. Albert Francis</td>\n",
       "      <td>male</td>\n",
       "      <td>26.0</td>\n",
       "      <td>1</td>\n",
       "      <td>1</td>\n",
       "      <td>248738</td>\n",
       "      <td>29.0000</td>\n",
       "      <td>NaN</td>\n",
       "      <td>S</td>\n",
       "    </tr>\n",
       "    <tr>\n",
       "      <th>8</th>\n",
       "      <td>900</td>\n",
       "      <td>3</td>\n",
       "      <td>Abrahim, Mrs. Joseph (Sophie Halaut Easu)</td>\n",
       "      <td>female</td>\n",
       "      <td>18.0</td>\n",
       "      <td>0</td>\n",
       "      <td>0</td>\n",
       "      <td>2657</td>\n",
       "      <td>7.2292</td>\n",
       "      <td>NaN</td>\n",
       "      <td>C</td>\n",
       "    </tr>\n",
       "    <tr>\n",
       "      <th>9</th>\n",
       "      <td>901</td>\n",
       "      <td>3</td>\n",
       "      <td>Davies, Mr. John Samuel</td>\n",
       "      <td>male</td>\n",
       "      <td>21.0</td>\n",
       "      <td>2</td>\n",
       "      <td>0</td>\n",
       "      <td>A/4 48871</td>\n",
       "      <td>24.1500</td>\n",
       "      <td>NaN</td>\n",
       "      <td>S</td>\n",
       "    </tr>\n",
       "  </tbody>\n",
       "</table>\n",
       "</div>"
      ],
      "text/plain": [
       "   PassengerId  Pclass                                          Name     Sex  \\\n",
       "0          892       3                              Kelly, Mr. James    male   \n",
       "1          893       3              Wilkes, Mrs. James (Ellen Needs)  female   \n",
       "2          894       2                     Myles, Mr. Thomas Francis    male   \n",
       "3          895       3                              Wirz, Mr. Albert    male   \n",
       "4          896       3  Hirvonen, Mrs. Alexander (Helga E Lindqvist)  female   \n",
       "5          897       3                    Svensson, Mr. Johan Cervin    male   \n",
       "6          898       3                          Connolly, Miss. Kate  female   \n",
       "7          899       2                  Caldwell, Mr. Albert Francis    male   \n",
       "8          900       3     Abrahim, Mrs. Joseph (Sophie Halaut Easu)  female   \n",
       "9          901       3                       Davies, Mr. John Samuel    male   \n",
       "\n",
       "    Age  SibSp  Parch     Ticket     Fare Cabin Embarked  \n",
       "0  34.5      0      0     330911   7.8292   NaN        Q  \n",
       "1  47.0      1      0     363272   7.0000   NaN        S  \n",
       "2  62.0      0      0     240276   9.6875   NaN        Q  \n",
       "3  27.0      0      0     315154   8.6625   NaN        S  \n",
       "4  22.0      1      1    3101298  12.2875   NaN        S  \n",
       "5  14.0      0      0       7538   9.2250   NaN        S  \n",
       "6  30.0      0      0     330972   7.6292   NaN        Q  \n",
       "7  26.0      1      1     248738  29.0000   NaN        S  \n",
       "8  18.0      0      0       2657   7.2292   NaN        C  \n",
       "9  21.0      2      0  A/4 48871  24.1500   NaN        S  "
      ]
     },
     "execution_count": 4,
     "metadata": {},
     "output_type": "execute_result"
    }
   ],
   "source": [
    "train= pd.read_csv('/kaggle/input/titanic/train.csv')\n",
    "#train=os.path.join(currentDirectory,'train.csv')\n",
    "#train= pd.read_csv(train)\n",
    "train.head(10) #notice Survival is provided for train dataset\n",
    "test=pd.read_csv('/kaggle/input/titanic/test.csv')\n",
    "#test=os.path.join(currentDirectory,'test.csv')\n",
    "#test=pd.read_csv(test)\n",
    "test.head(10) #notice Survival is NOT provided for test dataset"
   ]
  },
  {
   "cell_type": "markdown",
   "metadata": {},
   "source": [
    "# Code Objective 5 Explore Data, Clean Data, Feature Extraction\n",
    "##   5.0 Explore Data\n",
    "###   5.0.0 Explore Data:  Copy Data"
   ]
  },
  {
   "cell_type": "code",
   "execution_count": 5,
   "metadata": {},
   "outputs": [],
   "source": [
    "test_clean=test\n",
    "train_clean=train"
   ]
  },
  {
   "cell_type": "markdown",
   "metadata": {},
   "source": [
    "###   5.0.1 Explore Data: Find Missing Values"
   ]
  },
  {
   "cell_type": "code",
   "execution_count": 6,
   "metadata": {},
   "outputs": [],
   "source": [
    "missing_train=train_clean.isnull().sum() # notice Age [177], Cabin [687], Embarked [2]\n",
    "missing_test=test_clean.isnull().sum() # notice Age [86], Fare [1], Cabin [327]\n",
    "\n"
   ]
  },
  {
   "cell_type": "markdown",
   "metadata": {},
   "source": [
    "### missing_train\n",
    "   Shows the missing values in the training set"
   ]
  },
  {
   "cell_type": "code",
   "execution_count": 7,
   "metadata": {},
   "outputs": [
    {
     "name": "stdout",
     "output_type": "stream",
     "text": [
      "PassengerId      0\n",
      "Survived         0\n",
      "Pclass           0\n",
      "Name             0\n",
      "Sex              0\n",
      "Age            177\n",
      "SibSp            0\n",
      "Parch            0\n",
      "Ticket           0\n",
      "Fare             0\n",
      "Cabin          687\n",
      "Embarked         2\n",
      "dtype: int64\n"
     ]
    }
   ],
   "source": [
    "print(missing_train)"
   ]
  },
  {
   "cell_type": "markdown",
   "metadata": {},
   "source": [
    "### missing_test\n",
    "   Shows the missing values in the test set"
   ]
  },
  {
   "cell_type": "code",
   "execution_count": 8,
   "metadata": {},
   "outputs": [
    {
     "name": "stdout",
     "output_type": "stream",
     "text": [
      "PassengerId      0\n",
      "Pclass           0\n",
      "Name             0\n",
      "Sex              0\n",
      "Age             86\n",
      "SibSp            0\n",
      "Parch            0\n",
      "Ticket           0\n",
      "Fare             1\n",
      "Cabin          327\n",
      "Embarked         0\n",
      "dtype: int64\n"
     ]
    }
   ],
   "source": [
    "print(missing_test)"
   ]
  },
  {
   "cell_type": "markdown",
   "metadata": {},
   "source": [
    "###   5.0.2 Explore Data: Fix Missing Values\n",
    "####       5.0.2.1 Explore Data: Fix Missing Values: Age\n",
    "Missing 177 values in train set of 891, and 86 values in test set of 418.  Therefore, missing significant portion of the data.  Fill missing values with the average value to prevent bias.\n"
   ]
  },
  {
   "cell_type": "code",
   "execution_count": 9,
   "metadata": {},
   "outputs": [],
   "source": [
    "train_clean['Age'].fillna(train_clean['Age'].mean(),inplace=True) \n",
    "test_clean['Age'].fillna(test_clean['Age'].mean(),inplace=True) "
   ]
  },
  {
   "cell_type": "markdown",
   "metadata": {},
   "source": [
    "####      5.0.2.2 Explore Data: Fix Missing Values: Cabin"
   ]
  },
  {
   "cell_type": "code",
   "execution_count": 10,
   "metadata": {},
   "outputs": [],
   "source": [
    "train_clean['Cabin']=np.where(train_clean['Cabin'].isnull(),0,1)\n",
    "test_clean['Cabin']=np.where(test_clean['Cabin'].isnull(),0,1)"
   ]
  },
  {
   "cell_type": "markdown",
   "metadata": {},
   "source": [
    "\n",
    "\n",
    "Verify missing cabin correlates with survival using point plot.  The point plot represents the estimate of central tendency for a numeric variable (Cabin) by the position of scatter plot points and provides some indication of the uncertainty around that estimate using error bars. \n",
    "        \n"
   ]
  },
  {
   "cell_type": "code",
   "execution_count": 11,
   "metadata": {},
   "outputs": [
    {
     "data": {
      "image/png": "[encoded data removed]",
      "text/plain": [
       "<Figure size 432x288 with 1 Axes>"
      ]
     },
     "metadata": {
      "needs_background": "light"
     },
     "output_type": "display_data"
    }
   ],
   "source": [
    "plt.figure()\n",
    "sns.pointplot(x='Cabin',y='Survived',data=train_clean)\n",
    "plt.title('Figure 1:  Point Plot [training data] \"Cabin\" vs. \"Survived\"')\n",
    "plt.savefig('Figure1.png',dpi=300,bbox_inches='tight')\n",
    "plt.show()"
   ]
  },
  {
   "cell_type": "markdown",
   "metadata": {},
   "source": [
    "####       5.0.2.3 Explore Data: Fix Missing Values: Embarked\n",
    "\n",
    "Missing 2 values in train set of 891, and 0 values in test set of 418.  Therefore, not missing too much information, so we can delete these rows.\n"
   ]
  },
  {
   "cell_type": "code",
   "execution_count": 12,
   "metadata": {},
   "outputs": [],
   "source": [
    "train_clean=train_clean.dropna(subset=['Embarked'],axis=0)"
   ]
  },
  {
   "cell_type": "markdown",
   "metadata": {},
   "source": [
    "####       5.0.2.4 Explore Data: Fix Missing Values: Fare\n",
    "\n",
    "Missing 0 values in train set of 891, and 1 values in test set of 418.  Therefore, not missing too much information, but it is in the test data. This person did not have a cabin, so the fare is probably cheaper than just the average.  So we can use the average of the fare for peopel without a cabin for this value without causing bias.\n"
   ]
  },
  {
   "cell_type": "code",
   "execution_count": 13,
   "metadata": {},
   "outputs": [],
   "source": [
    "mean_Fare=test_clean['Fare'].mean()\n",
    "mean_Fare_noCabin=test_clean.loc[test_clean.loc[:,'Cabin']<1,'Fare'].mean()\n",
    "test_clean['Fare'].fillna(mean_Fare_noCabin,inplace=True) "
   ]
  },
  {
   "cell_type": "markdown",
   "metadata": {},
   "source": [
    "####       5.0.2.5 Explore Data: Verify No Missing Values: Fare"
   ]
  },
  {
   "cell_type": "code",
   "execution_count": 14,
   "metadata": {},
   "outputs": [],
   "source": [
    "missing_train_clean=train_clean.isnull().sum() # notice Age [177], Cabin [687], Embarked [2]\n",
    "missing_test_clean=test_clean.isnull().sum() # notice Age [86], Fare [1], Cabin [327]"
   ]
  },
  {
   "cell_type": "markdown",
   "metadata": {},
   "source": [
    "### missing_train_clean\n",
    "   Verify there is no missing values in the training set"
   ]
  },
  {
   "cell_type": "code",
   "execution_count": 15,
   "metadata": {},
   "outputs": [
    {
     "name": "stdout",
     "output_type": "stream",
     "text": [
      "PassengerId    0\n",
      "Survived       0\n",
      "Pclass         0\n",
      "Name           0\n",
      "Sex            0\n",
      "Age            0\n",
      "SibSp          0\n",
      "Parch          0\n",
      "Ticket         0\n",
      "Fare           0\n",
      "Cabin          0\n",
      "Embarked       0\n",
      "dtype: int64\n"
     ]
    }
   ],
   "source": [
    "print(missing_train_clean)"
   ]
  },
  {
   "cell_type": "markdown",
   "metadata": {},
   "source": [
    "### missing_test_clean\n",
    "   Verify there is no missing values in the test set"
   ]
  },
  {
   "cell_type": "code",
   "execution_count": 16,
   "metadata": {},
   "outputs": [
    {
     "name": "stdout",
     "output_type": "stream",
     "text": [
      "PassengerId    0\n",
      "Pclass         0\n",
      "Name           0\n",
      "Sex            0\n",
      "Age            0\n",
      "SibSp          0\n",
      "Parch          0\n",
      "Ticket         0\n",
      "Fare           0\n",
      "Cabin          0\n",
      "Embarked       0\n",
      "dtype: int64\n"
     ]
    }
   ],
   "source": [
    "print(missing_test_clean)"
   ]
  },
  {
   "cell_type": "markdown",
   "metadata": {},
   "source": [
    "##   5.1      Data Cleaning:\n",
    "###   5.1.0    Data Cleaning:  Change Name to Prefix"
   ]
  },
  {
   "cell_type": "code",
   "execution_count": 17,
   "metadata": {},
   "outputs": [],
   "source": [
    "def prefix_conv(data):\n",
    "    prefix=[]\n",
    "    for kk in list(data): # converts string in an array to only the Prefix\n",
    "        prefix.append(kk[kk.index(',')+1:kk.index('.')+1])\n",
    "    return prefix\n",
    "train_clean['Name']=prefix_conv(train_clean['Name'])\n",
    "test_clean['Name']=prefix_conv(test_clean['Name'])\n",
    "# View Unique Names\n",
    "Unique_Names_Train=(list(set(train_clean['Name'])))\n",
    "Unique_Names_Test=(list(set(train_clean['Name'])))"
   ]
  },
  {
   "cell_type": "markdown",
   "metadata": {},
   "source": [
    "## Before Numeric Conversion\n",
    "#### Unique_Names_Train"
   ]
  },
  {
   "cell_type": "code",
   "execution_count": 18,
   "metadata": {},
   "outputs": [
    {
     "name": "stdout",
     "output_type": "stream",
     "text": [
      "[' Miss.', ' Dr.', ' Lady.', ' Mr.', ' Ms.', ' Col.', ' Sir.', ' Rev.', ' Mlle.', ' Mrs.', ' Don.', ' Master.', ' the Countess.', ' Major.', ' Capt.', ' Mme.', ' Jonkheer.']\n"
     ]
    }
   ],
   "source": [
    "print(Unique_Names_Train)"
   ]
  },
  {
   "cell_type": "markdown",
   "metadata": {},
   "source": [
    "###   5.1.1   Data Cleaning: Convert Categorical Variables to Continuous\n",
    "####   5.1.1.1 Data Cleaning: Convert Categorical Variables to Continuous: Embarked, Sex, Name"
   ]
  },
  {
   "cell_type": "code",
   "execution_count": 19,
   "metadata": {},
   "outputs": [],
   "source": [
    "def list_conv(data): #converts value to unique number based on index in a unique list\n",
    "    list_Types=(list(set(data)))\n",
    "    list_List=[]\n",
    "    for jj in list(data):\n",
    "        for ii in list_Types:\n",
    "            if jj == ii:\n",
    "                list_List.append(list_Types.index(ii))   \n",
    "    return list_List\n",
    "train_clean['Embarked']=list_conv(train_clean['Embarked'])\n",
    "test_clean['Embarked']=list_conv(test_clean['Embarked'])\n",
    "train_clean['Sex']=list_conv(train_clean['Sex'])\n",
    "test_clean['Sex']=list_conv(test_clean['Sex'])\n",
    "train_clean['Name']=list_conv(train_clean['Name'])\n",
    "test_clean['Name']=list_conv(test_clean['Name'])\n",
    "\n",
    "Unique_Names_Train=(list(set(train_clean['Name'])))\n",
    "Unique_Names_Test=(list(set(train_clean['Name'])))"
   ]
  },
  {
   "cell_type": "markdown",
   "metadata": {},
   "source": [
    "## After Numeric Conversion\n",
    "#### Unique_Names_Train"
   ]
  },
  {
   "cell_type": "code",
   "execution_count": 20,
   "metadata": {},
   "outputs": [
    {
     "name": "stdout",
     "output_type": "stream",
     "text": [
      "[0, 1, 2, 3, 4, 5, 6, 7, 8, 9, 10, 11, 12, 13, 14, 15, 16]\n"
     ]
    }
   ],
   "source": [
    "print(Unique_Names_Train)"
   ]
  },
  {
   "cell_type": "markdown",
   "metadata": {},
   "source": [
    "####   5.1.2.1 Data Cleaning: Convert Categorical Variables to Continuous: Ticket\n",
    "The Ticket appears random and is assumed to have no relationship with the Survival.  Therefore, Ticket is removed."
   ]
  },
  {
   "cell_type": "code",
   "execution_count": 21,
   "metadata": {},
   "outputs": [],
   "source": [
    "train_clean.drop(['Ticket'],axis=1,inplace=True)\n",
    "test_clean.drop(['Ticket'],axis=1,inplace=True)"
   ]
  },
  {
   "cell_type": "code",
   "execution_count": 22,
   "metadata": {},
   "outputs": [],
   "source": [
    "#       Remove Variables with no correlation\n",
    "#       Use Heatmap\n",
    "corr = train_clean.corr()\n",
    "n_colors = 256 # Use 256 colors for the diverging color palette\n",
    "palette = sns.diverging_palette(0, 50, n=n_colors) # Create the palette\n",
    "color_min, color_max = [-1, 1] # Range of values that will be mapped to the palette, i.e. min and max possible correlation"
   ]
  },
  {
   "cell_type": "markdown",
   "metadata": {},
   "source": [
    "#### Function:  value_to_color"
   ]
  },
  {
   "cell_type": "code",
   "execution_count": 23,
   "metadata": {},
   "outputs": [],
   "source": [
    "\n",
    "def value_to_color(val):\n",
    "    val_position = float((val - color_min)) / (color_max - color_min) # position of value in the input range, relative to the length of the input range\n",
    "    ind = int(val_position * (n_colors - 1)) # target index in the color palette\n",
    "    return palette[ind]"
   ]
  },
  {
   "cell_type": "markdown",
   "metadata": {},
   "source": [
    "#### Function:  heatmap"
   ]
  },
  {
   "cell_type": "code",
   "execution_count": 24,
   "metadata": {},
   "outputs": [],
   "source": [
    "def heatmap(x, y, size, color,titleh,markert,filenameh):\n",
    "    plot_grid = plt.GridSpec(1, 15, hspace=0.2, wspace=0.1) # Setup a 1x15 grid\n",
    "    ax = plt.subplot(plot_grid[:,:-1]) # Use the leftmost 14 columns of the grid for the main plot\n",
    "    \n",
    "    # Mapping from column names to integer coordinates\n",
    "    x_labels = [v for v in sorted(x.unique())]\n",
    "    y_labels = [v for v in sorted(y.unique())]\n",
    "    x_to_num = {p[1]:p[0] for p in enumerate(x_labels)} \n",
    "    y_to_num = {p[1]:p[0] for p in enumerate(y_labels)} \n",
    "    \n",
    "    size_scale = 500\n",
    "    ax.scatter(\n",
    "        x=x.map(x_to_num), # Use mapping for x\n",
    "        y=y.map(y_to_num), # Use mapping for y\n",
    "        s=size * size_scale, # Vector of square sizes, proportional to size parameter\n",
    "        c=color.apply(value_to_color), # Vector of square color values, mapped to color palette\n",
    "        marker=markert # Use star as scatterplot marker\n",
    "\n",
    "    )\n",
    "    \n",
    "    # Show column labels on the axes\n",
    "    ax.set_xticks([x_to_num[v] for v in x_labels])\n",
    "    ax.set_xticklabels(x_labels, rotation=45, horizontalalignment='right')\n",
    "    ax.set_yticks([y_to_num[v] for v in y_labels])\n",
    "    ax.set_yticklabels(y_labels)\n",
    "    \n",
    "    ax.set_xlim([-0.5, max([v for v in x_to_num.values()]) + 0.5]) \n",
    "    ax.set_ylim([-0.5, max([v for v in y_to_num.values()]) + 0.5])\n",
    "    ax.set_title(titleh)\n",
    "    \n",
    "    # ...\n",
    "    \n",
    "    # Add color legend on the right side of the plot\n",
    "    ax = plt.subplot(plot_grid[:,-1]) # Use the rightmost column of the plot\n",
    "    \n",
    "    col_x = [0]*len(palette) # Fixed x coordinate for the bars\n",
    "    bar_y=np.linspace(color_min, color_max, n_colors) # y coordinates for each of the n_colors bars\n",
    "    \n",
    "    bar_height = bar_y[1] - bar_y[0]\n",
    "    ax.barh(\n",
    "        y=bar_y,\n",
    "        width=[5]*len(palette), # Make bars 5 units wide\n",
    "        left=col_x, # Make bars start at 0\n",
    "        height=bar_height,\n",
    "        color=palette,\n",
    "        linewidth=0\n",
    "    )\n",
    "    ax.set_xlim(1, 2) # Bars are going from 0 to 5, so lets crop the plot somewhere in the middle\n",
    "    ax.grid(False) # Hide grid\n",
    "    ax.set_facecolor('white') # Make background white\n",
    "    ax.set_xticks([]) # Remove horizontal ticks\n",
    "    ax.set_yticks(np.linspace(min(bar_y), max(bar_y), 3)) # Show vertical ticks for min, middle and max\n",
    "    ax.yaxis.tick_right() # Show vertical ticks on the right\n",
    "    plt.savefig(filenameh,dpi=300,bbox_inches='tight')\n",
    "    plt.show()"
   ]
  },
  {
   "cell_type": "markdown",
   "metadata": {},
   "source": [
    "### Figure 2:  Heatmap [training data]"
   ]
  },
  {
   "cell_type": "markdown",
   "metadata": {},
   "source": [
    "The heatmap shows how well correlated each feature is to the other features in the training set.  Before cleaning, some features don't correlate with the Survived feature that much.  For example, the PassengerId doesn't show much correlation at all to the Survived feature, which makes sense because it is the index of the passenger.  The bigger the circle or the darker the color, the higher the correlation is."
   ]
  },
  {
   "cell_type": "code",
   "execution_count": 25,
   "metadata": {},
   "outputs": [
    {
     "data": {
      "image/png": "[encoded data removed]",
      "text/plain": [
       "<Figure size 432x288 with 2 Axes>"
      ]
     },
     "metadata": {
      "needs_background": "light"
     },
     "output_type": "display_data"
    }
   ],
   "source": [
    "columns = train_clean.columns\n",
    "corr = train_clean[columns].corr()\n",
    "corr = pd.melt(corr.reset_index(), id_vars='index') # Unpivot the dataframe, so we can get pair of arrays for x and y\n",
    "corr.columns = ['x', 'y', 'value']\n",
    "heatmap(\n",
    "    x=corr['x'],\n",
    "    y=corr['y'],\n",
    "    size=corr['value'].abs(),\n",
    "    color=corr['value'],\n",
    "    titleh='Figure 2:  Heatmap [training data]',\n",
    "    markert='o',\n",
    "    filenameh='Figure2.png')"
   ]
  },
  {
   "cell_type": "markdown",
   "metadata": {},
   "source": [
    "###   5.2.0 Data Cleaning:  Drop:  PassengerId, Embarked, Parch, SibSp\n",
    "From the heatmap,  [PassengerId, Embarked, Parch, SibSp] shows the least amount \n",
    "of correlation for survival."
   ]
  },
  {
   "cell_type": "code",
   "execution_count": 26,
   "metadata": {},
   "outputs": [],
   "source": [
    "droplist=['PassengerId','Embarked','Parch','SibSp']\n",
    "train_clean.drop(droplist,axis=1,inplace=True)\n",
    "test_clean.drop(droplist,axis=1,inplace=True)"
   ]
  },
  {
   "cell_type": "markdown",
   "metadata": {},
   "source": [
    "###   5.3.0 Feature Extraction:  Principal Component Analysis: PC1_zscore, PC2_zscore"
   ]
  },
  {
   "cell_type": "code",
   "execution_count": 27,
   "metadata": {},
   "outputs": [],
   "source": [
    "pca_z = PCA(.95) #at least 95% of variance explained\n",
    "pca_z.fit(stats.zscore(pd.DataFrame(train_clean.drop(['Survived'],axis=1))))\n",
    "score_train_z=pca_z.transform(stats.zscore(pd.DataFrame(train_clean.drop(['Survived'],axis=1))))\n",
    "score_test_z=pca_z.transform(stats.zscore(pd.DataFrame(test_clean)))\n",
    "\n",
    "\n",
    "train_clean['PC1_zscore']=score_train_z[:,0]\n",
    "train_clean['PC2_zscore']=score_train_z[:,1]\n",
    "test_clean['PC1_zscore']=score_test_z[:,0]\n",
    "test_clean['PC2_zscore']=score_test_z[:,1]\n"
   ]
  },
  {
   "cell_type": "markdown",
   "metadata": {},
   "source": [
    "### Figure 3:  Heatmap [training data, cleaned]"
   ]
  },
  {
   "cell_type": "markdown",
   "metadata": {},
   "source": [
    "The heatmap shows how well correlated each feature is to the other features in the training set.  After cleaning, the Survived feature has a higher correlation with the other features used to train a model on it.  The bigger the circle or the darker the color, the higher the correlation is."
   ]
  },
  {
   "cell_type": "code",
   "execution_count": 28,
   "metadata": {},
   "outputs": [
    {
     "data": {
      "image/png": "[encoded data removed]",
      "text/plain": [
       "<Figure size 432x288 with 2 Axes>"
      ]
     },
     "metadata": {
      "needs_background": "light"
     },
     "output_type": "display_data"
    }
   ],
   "source": [
    "columns = train_clean.columns\n",
    "corr = train_clean[columns].corr()\n",
    "corr = pd.melt(corr.reset_index(), id_vars='index') # Unpivot the dataframe, so we can get pair of arrays for x and y\n",
    "corr.columns = ['x', 'y', 'value']\n",
    "heatmap(\n",
    "    x=corr['x'],\n",
    "    y=corr['y'],\n",
    "    size=corr['value'].abs(),\n",
    "    color=corr['value'],\n",
    "    titleh='Figure 3:  Heatmap [training data, cleaned]',\n",
    "    markert='o',\n",
    "    filenameh='Figure3.png')\n"
   ]
  },
  {
   "cell_type": "markdown",
   "metadata": {},
   "source": [
    "# Code Objective 6:  Machine Learning\n",
    "##  6.0 Machine Learning: training data split"
   ]
  },
  {
   "cell_type": "code",
   "execution_count": 29,
   "metadata": {},
   "outputs": [
    {
     "name": "stdout",
     "output_type": "stream",
     "text": [
      "711\n",
      "178\n"
     ]
    }
   ],
   "source": [
    "features = train_clean.drop('Survived',axis=1)\n",
    "labels = train_clean['Survived']\n",
    "X_train, X_val, y_train, y_val = train_test_split(features,labels, test_size=0.20, random_state=5) #hold out 20% of data\n",
    "X_train = pd.DataFrame(X_train)\n",
    "X_val=pd.DataFrame(X_val)\n",
    "y_train = pd.DataFrame(y_train)\n",
    "y_val=pd.DataFrame(y_val)\n",
    "for dataset in [y_train, y_val]:\n",
    "    print(round(len(dataset),2))\n",
    "    \n",
    "tr_features=X_train\n",
    "tr_labels=y_train\n",
    "\n",
    "val_features = X_val\n",
    "val_labels=y_val"
   ]
  },
  {
   "cell_type": "markdown",
   "metadata": {},
   "source": [
    "#### Function:  print_results"
   ]
  },
  {
   "cell_type": "code",
   "execution_count": 30,
   "metadata": {},
   "outputs": [],
   "source": [
    "def print_results(results,name,filename_pr):\n",
    "    with open(filename_pr, mode='w') as file_object:\n",
    "        print(name,file=file_object)\n",
    "        print(name)\n",
    "        print('BEST PARAMS: {}\\n'.format(results.best_params_),file=file_object)\n",
    "        print('BEST PARAMS: {}\\n'.format(results.best_params_))\n",
    "        means = results.cv_results_['mean_test_score']\n",
    "        stds = results.cv_results_['std_test_score']\n",
    "        for mean, std, params in zip(means, stds, results.cv_results_['params']):\n",
    "            print('{} {} (+/-{}) for {}'.format(name,round(mean, 3), round(std * 2, 3), params),file=file_object)\n",
    "            print('{} {} (+/-{}) for {}'.format(name,round(mean, 3), round(std * 2, 3), params))"
   ]
  },
  {
   "cell_type": "markdown",
   "metadata": {},
   "source": [
    "## 6.1 Machine Learning:          \n"
   ]
  },
  {
   "cell_type": "markdown",
   "metadata": {},
   "source": [
    "In order to find a good model, several algorithms are tested on the training dataset.  A senstivity study using different Hyperparameters of the algorithms are iterated on with GridSearchCV in order optimize each model.  The best model is the one that has the highest accuracy without overfitting by looking at both the training data and the validation data results.  Computer time does not appear to be an issue for these models, so it has little weight on deciding between models.  "
   ]
  },
  {
   "cell_type": "markdown",
   "metadata": {},
   "source": [
    "### 6.1.0 Machine Learning: Hyperparameter using GridSearch CV"
   ]
  },
  {
   "cell_type": "code",
   "execution_count": 31,
   "metadata": {},
   "outputs": [
    {
     "name": "stdout",
     "output_type": "stream",
     "text": [
      "<class 'sklearn.model_selection._search.GridSearchCV'>\n"
     ]
    }
   ],
   "source": [
    "print(GridSearchCV)"
   ]
  },
  {
   "cell_type": "markdown",
   "metadata": {},
   "source": [
    "### GridSearch CV\n",
    "\n",
    "class sklearn.model_selection.GridSearchCV(estimator, param_grid, scoring=None, n_jobs=None, iid='deprecated', refit=True, cv=None, verbose=0, pre_dispatch='2*n_jobs', error_score=nan, return_train_score=False)[source]¶\n",
    "\n",
    "Exhaustive search over specified parameter values for an estimator.\n",
    "\n",
    "Important members are fit, predict.\n",
    "\n",
    "GridSearchCV implements a “fit” and a “score” method. It also implements “predict”, “predict_proba”, “decision_function”, “transform” and “inverse_transform” if they are implemented in the estimator used.\n",
    "\n",
    "The parameters of the estimator used to apply these methods are optimized by cross-validated grid-search over a parameter grid."
   ]
  },
  {
   "cell_type": "markdown",
   "metadata": {},
   "source": [
    "### 6.1.1  Machine Learning: Models: Logistic Regression Model "
   ]
  },
  {
   "cell_type": "code",
   "execution_count": 32,
   "metadata": {
    "scrolled": false
   },
   "outputs": [
    {
     "name": "stdout",
     "output_type": "stream",
     "text": [
      "LogisticRegression(C=1.0, class_weight=None, dual=False, fit_intercept=True,\n",
      "                   intercept_scaling=1, l1_ratio=None, max_iter=100,\n",
      "                   multi_class='warn', n_jobs=None, penalty='l2',\n",
      "                   random_state=None, solver='warn', tol=0.0001, verbose=0,\n",
      "                   warm_start=False)\n"
     ]
    }
   ],
   "source": [
    "print(LogisticRegression())"
   ]
  },
  {
   "cell_type": "markdown",
   "metadata": {},
   "source": [
    "## Logistic Regression:  Hyperparameter used in GridSearchCV\n",
    "### HP1, C:  float, optional (default=1.0)\n",
    "Inverse of regularization strength; must be a positive float. Like in support vector machines, smaller values specify stronger regularization.\n",
    "##### Details\n",
    "Regularization is when a penality is applied with increasing value to prevent overfitting.  The inverse of regularization strength means as the value of C goes up, the value of the regularization strength goes down and vice versa.  \n",
    "##### Values chosen\n",
    "'C': [0.001, 0.01, 0.1, 1, 10, 100, 1000]"
   ]
  },
  {
   "cell_type": "code",
   "execution_count": 33,
   "metadata": {},
   "outputs": [
    {
     "name": "stdout",
     "output_type": "stream",
     "text": [
      "Logistic Regression (LR)\n",
      "BEST PARAMS: {'C': 100}\n",
      "\n",
      "Logistic Regression (LR) 0.703 (+/-0.105) for {'C': 0.001}\n",
      "Logistic Regression (LR) 0.754 (+/-0.116) for {'C': 0.01}\n",
      "Logistic Regression (LR) 0.779 (+/-0.12) for {'C': 0.1}\n",
      "Logistic Regression (LR) 0.785 (+/-0.12) for {'C': 1}\n",
      "Logistic Regression (LR) 0.786 (+/-0.11) for {'C': 10}\n",
      "Logistic Regression (LR) 0.788 (+/-0.112) for {'C': 100}\n",
      "Logistic Regression (LR) 0.788 (+/-0.112) for {'C': 1000}\n"
     ]
    }
   ],
   "source": [
    "LR_model_dir=os.path.join(currentDirectory,'LR_model.pkl')\n",
    "if os.path.exists(LR_model_dir) == False:\n",
    "    lr = LogisticRegression()\n",
    "    parameters = {\n",
    "            'C': [0.001, 0.01, 0.1, 1, 10, 100, 1000]\n",
    "            }\n",
    "    cv=GridSearchCV(lr, parameters, cv=5)\n",
    "    cv.fit(tr_features,tr_labels.values.ravel())      \n",
    "    print_results(cv,'Logistic Regression (LR)','LR_GridSearchCV_results.txt')\n",
    "    cv.best_estimator_\n",
    "    LR_model_dir=os.path.join(currentDirectory,'LR_model.pkl')\n",
    "    joblib.dump(cv.best_estimator_,LR_model_dir)\n",
    "else:\n",
    "    print('Already have LR')"
   ]
  },
  {
   "cell_type": "markdown",
   "metadata": {},
   "source": [
    "### 6.1.2  Machine Learning: Models: SVM Model"
   ]
  },
  {
   "cell_type": "code",
   "execution_count": 34,
   "metadata": {},
   "outputs": [
    {
     "name": "stdout",
     "output_type": "stream",
     "text": [
      "SVC(C=1.0, cache_size=200, class_weight=None, coef0=0.0,\n",
      "    decision_function_shape='ovr', degree=3, gamma='auto_deprecated',\n",
      "    kernel='rbf', max_iter=-1, probability=False, random_state=None,\n",
      "    shrinking=True, tol=0.001, verbose=False)\n"
     ]
    }
   ],
   "source": [
    "print(SVC())"
   ]
  },
  {
   "cell_type": "markdown",
   "metadata": {},
   "source": [
    "## Support Vector Machine:  \n",
    "### Hyperparameter used in GridSearchCV\n",
    "#### HP1,  kernelstring, optional (default=’rbf’)\n",
    "Specifies the kernel type to be used in the algorithm. It must be one of ‘linear’, ‘poly’, ‘rbf’, ‘sigmoid’, ‘precomputed’ or a callable. If none is given, ‘rbf’ will be used. If a callable is given it is used to pre-compute the kernel matrix from data matrices; that matrix should be an array of shape (n_samples, n_samples).\n",
    "###### Details\n",
    "A linear kernel type is good when the data is Linearly seperable, which means it can be separated by a single Line.\n",
    "A radial basis function (rbf) kernel type is an expontential function of the squared Euclidean distance between two vectors and a constant.  Since the value of RBF kernel decreases with distance and ranges between zero and one, it has a ready interpretation as a similiarity measure.  \n",
    "###### Values chosen\n",
    "'kernel': ['linear','rbf']\n",
    "\n",
    "#### HP2,  C:  float, optional (default=1.0)\n",
    "Regularization parameter. The strength of the regularization is inversely proportional to C. Must be strictly positive. The penalty is a squared l2 penalty.\n",
    "###### Details\n",
    "Regularization is when a penality is applied with increasing value to prevent overfitting.  The inverse of regularization strength means as the value of C goes up, the value of the regularization strength goes down and vice versa.  \n",
    "###### Values chosen\n",
    "'C': [0.1, 1, 10]"
   ]
  },
  {
   "cell_type": "code",
   "execution_count": 35,
   "metadata": {},
   "outputs": [
    {
     "name": "stdout",
     "output_type": "stream",
     "text": [
      "Support Vector Machine (SVM)\n",
      "BEST PARAMS: {'C': 0.1, 'kernel': 'linear'}\n",
      "\n",
      "Support Vector Machine (SVM) 0.772 (+/-0.099) for {'C': 0.1, 'kernel': 'linear'}\n",
      "Support Vector Machine (SVM) 0.605 (+/-0.003) for {'C': 0.1, 'kernel': 'rbf'}\n",
      "Support Vector Machine (SVM) 0.772 (+/-0.099) for {'C': 1, 'kernel': 'linear'}\n",
      "Support Vector Machine (SVM) 0.738 (+/-0.063) for {'C': 1, 'kernel': 'rbf'}\n",
      "Support Vector Machine (SVM) 0.772 (+/-0.099) for {'C': 10, 'kernel': 'linear'}\n",
      "Support Vector Machine (SVM) 0.72 (+/-0.061) for {'C': 10, 'kernel': 'rbf'}\n"
     ]
    }
   ],
   "source": [
    "SVM_model_dir=os.path.join(currentDirectory,'SVM_model.pkl')\n",
    "if os.path.exists(SVM_model_dir) == False:\n",
    "    svc = SVC()\n",
    "    parameters = {\n",
    "            'kernel': ['linear','rbf'],\n",
    "            'C': [0.1, 1, 10]\n",
    "            }\n",
    "    cv=GridSearchCV(svc,parameters, cv=5)\n",
    "    cv.fit(tr_features, tr_labels.values.ravel())\n",
    "    print_results(cv,'Support Vector Machine (SVM)','SVM_GridSearchCV_results.txt')\n",
    "    cv.best_estimator_\n",
    "    SVM_model_dir=os.path.join(currentDirectory,'SVM_model.pkl')\n",
    "    joblib.dump(cv.best_estimator_,SVM_model_dir)\n",
    "else:\n",
    "    print('Already have SVM')"
   ]
  },
  {
   "cell_type": "markdown",
   "metadata": {},
   "source": [
    "### 6.1.3 Machine Learning: Models: MLP Model"
   ]
  },
  {
   "cell_type": "code",
   "execution_count": 36,
   "metadata": {},
   "outputs": [
    {
     "name": "stdout",
     "output_type": "stream",
     "text": [
      "MLPClassifier(activation='relu', alpha=0.0001, batch_size='auto', beta_1=0.9,\n",
      "              beta_2=0.999, early_stopping=False, epsilon=1e-08,\n",
      "              hidden_layer_sizes=(100,), learning_rate='constant',\n",
      "              learning_rate_init=0.001, max_iter=200, momentum=0.9,\n",
      "              n_iter_no_change=10, nesterovs_momentum=True, power_t=0.5,\n",
      "              random_state=None, shuffle=True, solver='adam', tol=0.0001,\n",
      "              validation_fraction=0.1, verbose=False, warm_start=False)\n"
     ]
    }
   ],
   "source": [
    "print(MLPClassifier())"
   ]
  },
  {
   "cell_type": "markdown",
   "metadata": {},
   "source": [
    "## Neural Network:  \n",
    "### Hyperparameter used in GridSearchCV\n",
    "#### HP1, hidden_layer_sizes:  tuple, length = n_layers - 2, default (100,)\n",
    "The ith element represents the number of neurons in the ith hidden layer.\n",
    "###### Details\n",
    "A rule of thumb is (2/3)*(# of input features) = neurons per hidden layer. \n",
    "###### Values chosen\n",
    "'hidden_layer_sizes': [(10,),(50,),(100,)]\n",
    "\n",
    "#### HP2, activation:  {‘identity’, ‘logistic’, ‘tanh’, ‘relu’}, default ‘relu’\n",
    "Activation function for the hidden layer.\n",
    "###### Details\n",
    "* ‘identity’, no-op activation, useful to implement linear bottleneck, returns f(x) = x\n",
    "* ‘logistic’, the logistic sigmoid function, returns f(x) = 1 / (1 + exp(-x)).\n",
    "* ‘tanh’, the hyperbolic tan function, returns f(x) = tanh(x).\n",
    "* ‘relu’, the rectified linear unit function, returns f(x) = max(0, x)   \n",
    "###### Values chosen\n",
    "'hidden_layer_sizes': [(10,),(50,),(100,)]\n",
    "\n",
    "#### HP3, learning_rate:  {‘constant’, ‘invscaling’, ‘adaptive’}, default ‘constant’\n",
    "Learning rate schedule for weight updates.\n",
    "###### Details\n",
    "* ‘constant’ is a constant learning rate given by ‘learning_rate_init’.\n",
    "* ‘invscaling’ gradually decreases the learning rate at each time step ‘t’ using an inverse scaling exponent of ‘power_t’. effective_learning_rate = learning_rate_init / pow(t, power_t)\n",
    "* ‘adaptive’ keeps the learning rate constant to ‘learning_rate_init’ as long as training loss keeps decreasing. Each time two consecutive epochs fail to decrease training loss by at least tol, or fail to increase validation score by at least tol if ‘early_stopping’ is on, the current learning rate is divided by 5.\n",
    "\n",
    "Only used when solver='sgd'.\n",
    "  \n",
    "###### Values chosen\n",
    "'learning_rate': ['constant','invscaling','adaptive']"
   ]
  },
  {
   "cell_type": "code",
   "execution_count": 37,
   "metadata": {},
   "outputs": [
    {
     "name": "stdout",
     "output_type": "stream",
     "text": [
      "Neural Network (MLP)\n",
      "BEST PARAMS: {'activation': 'tanh', 'hidden_layer_sizes': (50,), 'learning_rate': 'constant'}\n",
      "\n",
      "Neural Network (MLP) 0.767 (+/-0.114) for {'activation': 'relu', 'hidden_layer_sizes': (10,), 'learning_rate': 'constant'}\n",
      "Neural Network (MLP) 0.774 (+/-0.081) for {'activation': 'relu', 'hidden_layer_sizes': (10,), 'learning_rate': 'invscaling'}\n",
      "Neural Network (MLP) 0.761 (+/-0.092) for {'activation': 'relu', 'hidden_layer_sizes': (10,), 'learning_rate': 'adaptive'}\n",
      "Neural Network (MLP) 0.795 (+/-0.099) for {'activation': 'relu', 'hidden_layer_sizes': (50,), 'learning_rate': 'constant'}\n",
      "Neural Network (MLP) 0.789 (+/-0.107) for {'activation': 'relu', 'hidden_layer_sizes': (50,), 'learning_rate': 'invscaling'}\n",
      "Neural Network (MLP) 0.778 (+/-0.119) for {'activation': 'relu', 'hidden_layer_sizes': (50,), 'learning_rate': 'adaptive'}\n",
      "Neural Network (MLP) 0.775 (+/-0.107) for {'activation': 'relu', 'hidden_layer_sizes': (100,), 'learning_rate': 'constant'}\n",
      "Neural Network (MLP) 0.79 (+/-0.111) for {'activation': 'relu', 'hidden_layer_sizes': (100,), 'learning_rate': 'invscaling'}\n",
      "Neural Network (MLP) 0.792 (+/-0.065) for {'activation': 'relu', 'hidden_layer_sizes': (100,), 'learning_rate': 'adaptive'}\n",
      "Neural Network (MLP) 0.782 (+/-0.121) for {'activation': 'tanh', 'hidden_layer_sizes': (10,), 'learning_rate': 'constant'}\n",
      "Neural Network (MLP) 0.736 (+/-0.122) for {'activation': 'tanh', 'hidden_layer_sizes': (10,), 'learning_rate': 'invscaling'}\n",
      "Neural Network (MLP) 0.761 (+/-0.082) for {'activation': 'tanh', 'hidden_layer_sizes': (10,), 'learning_rate': 'adaptive'}\n",
      "Neural Network (MLP) 0.799 (+/-0.061) for {'activation': 'tanh', 'hidden_layer_sizes': (50,), 'learning_rate': 'constant'}\n",
      "Neural Network (MLP) 0.795 (+/-0.113) for {'activation': 'tanh', 'hidden_layer_sizes': (50,), 'learning_rate': 'invscaling'}\n",
      "Neural Network (MLP) 0.797 (+/-0.077) for {'activation': 'tanh', 'hidden_layer_sizes': (50,), 'learning_rate': 'adaptive'}\n",
      "Neural Network (MLP) 0.795 (+/-0.084) for {'activation': 'tanh', 'hidden_layer_sizes': (100,), 'learning_rate': 'constant'}\n",
      "Neural Network (MLP) 0.793 (+/-0.097) for {'activation': 'tanh', 'hidden_layer_sizes': (100,), 'learning_rate': 'invscaling'}\n",
      "Neural Network (MLP) 0.795 (+/-0.095) for {'activation': 'tanh', 'hidden_layer_sizes': (100,), 'learning_rate': 'adaptive'}\n",
      "Neural Network (MLP) 0.761 (+/-0.155) for {'activation': 'logistic', 'hidden_layer_sizes': (10,), 'learning_rate': 'constant'}\n",
      "Neural Network (MLP) 0.768 (+/-0.136) for {'activation': 'logistic', 'hidden_layer_sizes': (10,), 'learning_rate': 'invscaling'}\n",
      "Neural Network (MLP) 0.759 (+/-0.135) for {'activation': 'logistic', 'hidden_layer_sizes': (10,), 'learning_rate': 'adaptive'}\n",
      "Neural Network (MLP) 0.79 (+/-0.109) for {'activation': 'logistic', 'hidden_layer_sizes': (50,), 'learning_rate': 'constant'}\n",
      "Neural Network (MLP) 0.788 (+/-0.117) for {'activation': 'logistic', 'hidden_layer_sizes': (50,), 'learning_rate': 'invscaling'}\n",
      "Neural Network (MLP) 0.792 (+/-0.117) for {'activation': 'logistic', 'hidden_layer_sizes': (50,), 'learning_rate': 'adaptive'}\n",
      "Neural Network (MLP) 0.795 (+/-0.108) for {'activation': 'logistic', 'hidden_layer_sizes': (100,), 'learning_rate': 'constant'}\n",
      "Neural Network (MLP) 0.793 (+/-0.099) for {'activation': 'logistic', 'hidden_layer_sizes': (100,), 'learning_rate': 'invscaling'}\n",
      "Neural Network (MLP) 0.797 (+/-0.126) for {'activation': 'logistic', 'hidden_layer_sizes': (100,), 'learning_rate': 'adaptive'}\n"
     ]
    }
   ],
   "source": [
    "MLP_model_dir=os.path.join(currentDirectory,'MLP_model.pkl')\n",
    "if os.path.exists(MLP_model_dir) == False:\n",
    "    mlp = MLPClassifier()\n",
    "    parameters = {\n",
    "            'hidden_layer_sizes': [(10,),(50,),(100,)],\n",
    "            'activation': ['relu','tanh','logistic'],\n",
    "            'learning_rate': ['constant','invscaling','adaptive']\n",
    "            }\n",
    "    cv=GridSearchCV(mlp, parameters, cv=5)\n",
    "    cv.fit(tr_features, tr_labels.values.ravel())\n",
    "    print_results(cv,'Neural Network (MLP)','MLP_GridSearchCV_results.txt')\n",
    "    cv.best_estimator_\n",
    "    MLP_model_dir=os.path.join(currentDirectory,'MLP_model.pkl')\n",
    "    joblib.dump(cv.best_estimator_,MLP_model_dir)\n",
    "else:\n",
    "    print('Already have MLP')"
   ]
  },
  {
   "cell_type": "markdown",
   "metadata": {},
   "source": [
    "### 6.1.4 Machine Learning: Models: RF Model"
   ]
  },
  {
   "cell_type": "code",
   "execution_count": 38,
   "metadata": {},
   "outputs": [
    {
     "name": "stdout",
     "output_type": "stream",
     "text": [
      "RandomForestClassifier(bootstrap=True, class_weight=None, criterion='gini',\n",
      "                       max_depth=None, max_features='auto', max_leaf_nodes=None,\n",
      "                       min_impurity_decrease=0.0, min_impurity_split=None,\n",
      "                       min_samples_leaf=1, min_samples_split=2,\n",
      "                       min_weight_fraction_leaf=0.0, n_estimators='warn',\n",
      "                       n_jobs=None, oob_score=False, random_state=None,\n",
      "                       verbose=0, warm_start=False)\n"
     ]
    }
   ],
   "source": [
    "print(RandomForestClassifier())"
   ]
  },
  {
   "cell_type": "markdown",
   "metadata": {},
   "source": [
    "## Random Forest:  \n",
    "### Hyperparameter used in GridSearchCV\n",
    "#### HP1, n_estimators:  integer, optional (default=100)\n",
    "The number of trees in the forest.\n",
    "\n",
    "Changed in version 0.22: The default value of n_estimators changed from 10 to 100 in 0.22.\n",
    "###### Details\n",
    "Usually 500 does the trick and the accuracy and out of bag error doesn't change much after. \n",
    "###### Values chosen\n",
    "'n_estimators': [500],\n",
    "\n",
    "#### HP2, max_depth:  integer or None, optional (default=None)\n",
    "The maximum depth of the tree. If None, then nodes are expanded until all leaves are pure or until all leaves contain less than min_samples_split samples.\n",
    "###### Details\n",
    "None usually does the trick, but a few shallow trees are tested. \n",
    "###### Values chosen\n",
    "'max_depth': [5,7,9, None]"
   ]
  },
  {
   "cell_type": "code",
   "execution_count": 39,
   "metadata": {},
   "outputs": [
    {
     "name": "stdout",
     "output_type": "stream",
     "text": [
      "Random Forest (RF)\n",
      "BEST PARAMS: {'max_depth': 7, 'n_estimators': 500}\n",
      "\n",
      "Random Forest (RF) 0.803 (+/-0.064) for {'max_depth': 5, 'n_estimators': 500}\n",
      "Random Forest (RF) 0.805 (+/-0.055) for {'max_depth': 7, 'n_estimators': 500}\n",
      "Random Forest (RF) 0.803 (+/-0.078) for {'max_depth': 9, 'n_estimators': 500}\n",
      "Random Forest (RF) 0.778 (+/-0.089) for {'max_depth': None, 'n_estimators': 500}\n"
     ]
    }
   ],
   "source": [
    "RF_model_dir=os.path.join(currentDirectory,'RF_model.pkl')\n",
    "if os.path.exists(RF_model_dir) == False:\n",
    "    rf = RandomForestClassifier(oob_score=False)\n",
    "    parameters = {\n",
    "            'n_estimators': [500],\n",
    "            'max_depth': [5,7,9, None]\n",
    "            }\n",
    "    cv = GridSearchCV(rf, parameters, cv=5)\n",
    "    cv.fit(tr_features, tr_labels.values.ravel())\n",
    "    print_results(cv,'Random Forest (RF)','RF_GridSearchCV_results.txt')\n",
    "    cv.best_estimator_\n",
    "    RF_model_dir=os.path.join(currentDirectory,'RF_model.pkl')\n",
    "    joblib.dump(cv.best_estimator_,RF_model_dir)\n",
    "else:\n",
    "    print('Already have RF')"
   ]
  },
  {
   "cell_type": "markdown",
   "metadata": {},
   "source": [
    "### 6.1.5 Machine Learning: Models: GB Model"
   ]
  },
  {
   "cell_type": "code",
   "execution_count": 40,
   "metadata": {},
   "outputs": [
    {
     "name": "stdout",
     "output_type": "stream",
     "text": [
      "GradientBoostingClassifier(criterion='friedman_mse', init=None,\n",
      "                           learning_rate=0.1, loss='deviance', max_depth=3,\n",
      "                           max_features=None, max_leaf_nodes=None,\n",
      "                           min_impurity_decrease=0.0, min_impurity_split=None,\n",
      "                           min_samples_leaf=1, min_samples_split=2,\n",
      "                           min_weight_fraction_leaf=0.0, n_estimators=100,\n",
      "                           n_iter_no_change=None, presort='auto',\n",
      "                           random_state=None, subsample=1.0, tol=0.0001,\n",
      "                           validation_fraction=0.1, verbose=0,\n",
      "                           warm_start=False)\n"
     ]
    }
   ],
   "source": [
    "print(GradientBoostingClassifier())"
   ]
  },
  {
   "cell_type": "markdown",
   "metadata": {},
   "source": [
    "## Gradient Boosting:  \n",
    "### Hyperparameter used in GridSearchCV\n",
    "#### HP1, n_estimators:  int (default=100)\n",
    "The number of boosting stages to perform. Gradient boosting is fairly robust to over-fitting so a large number usually results in better performance.\n",
    "###### Details\n",
    "Usually 500 does the trick and the accuracy and out of bag error doesn't change much after. \n",
    "###### Values chosen\n",
    "'n_estimators': [5, 50, 250, 500],\n",
    "\n",
    "#### HP2, max_depth:  integer, optional (default=3)\n",
    "maximum depth of the individual regression estimators. The maximum depth limits the number of nodes in the tree. Tune this parameter for best performance; the best value depends on the interaction of the input variables.\n",
    "###### Details\n",
    "A variety of shallow trees are tested. \n",
    "###### Values chosen\n",
    "'max_depth': [1, 3, 5, 7, 9],\n",
    "\n",
    "#### HP3, learning_rate:  float, optional (default=0.1)\n",
    "learning rate shrinks the contribution of each tree by learning_rate. There is a trade-off between learning_rate and n_estimators.\n",
    "###### Details\n",
    "A variety was chosen because of the trade-off.\n",
    "###### Values chosen\n",
    "'learning_rate': [0.01, 0.1, 1]"
   ]
  },
  {
   "cell_type": "code",
   "execution_count": 41,
   "metadata": {},
   "outputs": [
    {
     "name": "stdout",
     "output_type": "stream",
     "text": [
      "Gradient Boost (GB)\n",
      "BEST PARAMS: {'learning_rate': 0.01, 'max_depth': 3, 'n_estimators': 250}\n",
      "\n",
      "Gradient Boost (GB) 0.605 (+/-0.003) for {'learning_rate': 0.01, 'max_depth': 1, 'n_estimators': 5}\n",
      "Gradient Boost (GB) 0.727 (+/-0.055) for {'learning_rate': 0.01, 'max_depth': 1, 'n_estimators': 50}\n",
      "Gradient Boost (GB) 0.786 (+/-0.09) for {'learning_rate': 0.01, 'max_depth': 1, 'n_estimators': 250}\n",
      "Gradient Boost (GB) 0.781 (+/-0.087) for {'learning_rate': 0.01, 'max_depth': 1, 'n_estimators': 500}\n",
      "Gradient Boost (GB) 0.605 (+/-0.003) for {'learning_rate': 0.01, 'max_depth': 3, 'n_estimators': 5}\n",
      "Gradient Boost (GB) 0.779 (+/-0.066) for {'learning_rate': 0.01, 'max_depth': 3, 'n_estimators': 50}\n",
      "Gradient Boost (GB) 0.797 (+/-0.064) for {'learning_rate': 0.01, 'max_depth': 3, 'n_estimators': 250}\n",
      "Gradient Boost (GB) 0.797 (+/-0.063) for {'learning_rate': 0.01, 'max_depth': 3, 'n_estimators': 500}\n",
      "Gradient Boost (GB) 0.605 (+/-0.003) for {'learning_rate': 0.01, 'max_depth': 5, 'n_estimators': 5}\n",
      "Gradient Boost (GB) 0.776 (+/-0.051) for {'learning_rate': 0.01, 'max_depth': 5, 'n_estimators': 50}\n",
      "Gradient Boost (GB) 0.795 (+/-0.069) for {'learning_rate': 0.01, 'max_depth': 5, 'n_estimators': 250}\n",
      "Gradient Boost (GB) 0.789 (+/-0.067) for {'learning_rate': 0.01, 'max_depth': 5, 'n_estimators': 500}\n",
      "Gradient Boost (GB) 0.605 (+/-0.003) for {'learning_rate': 0.01, 'max_depth': 7, 'n_estimators': 5}\n",
      "Gradient Boost (GB) 0.792 (+/-0.025) for {'learning_rate': 0.01, 'max_depth': 7, 'n_estimators': 50}\n",
      "Gradient Boost (GB) 0.783 (+/-0.065) for {'learning_rate': 0.01, 'max_depth': 7, 'n_estimators': 250}\n",
      "Gradient Boost (GB) 0.779 (+/-0.055) for {'learning_rate': 0.01, 'max_depth': 7, 'n_estimators': 500}\n",
      "Gradient Boost (GB) 0.605 (+/-0.003) for {'learning_rate': 0.01, 'max_depth': 9, 'n_estimators': 5}\n",
      "Gradient Boost (GB) 0.786 (+/-0.022) for {'learning_rate': 0.01, 'max_depth': 9, 'n_estimators': 50}\n",
      "Gradient Boost (GB) 0.778 (+/-0.033) for {'learning_rate': 0.01, 'max_depth': 9, 'n_estimators': 250}\n",
      "Gradient Boost (GB) 0.771 (+/-0.043) for {'learning_rate': 0.01, 'max_depth': 9, 'n_estimators': 500}\n",
      "Gradient Boost (GB) 0.73 (+/-0.046) for {'learning_rate': 0.1, 'max_depth': 1, 'n_estimators': 5}\n",
      "Gradient Boost (GB) 0.782 (+/-0.084) for {'learning_rate': 0.1, 'max_depth': 1, 'n_estimators': 50}\n",
      "Gradient Boost (GB) 0.792 (+/-0.1) for {'learning_rate': 0.1, 'max_depth': 1, 'n_estimators': 250}\n",
      "Gradient Boost (GB) 0.795 (+/-0.09) for {'learning_rate': 0.1, 'max_depth': 1, 'n_estimators': 500}\n",
      "Gradient Boost (GB) 0.783 (+/-0.064) for {'learning_rate': 0.1, 'max_depth': 3, 'n_estimators': 5}\n",
      "Gradient Boost (GB) 0.795 (+/-0.09) for {'learning_rate': 0.1, 'max_depth': 3, 'n_estimators': 50}\n",
      "Gradient Boost (GB) 0.786 (+/-0.051) for {'learning_rate': 0.1, 'max_depth': 3, 'n_estimators': 250}\n",
      "Gradient Boost (GB) 0.769 (+/-0.056) for {'learning_rate': 0.1, 'max_depth': 3, 'n_estimators': 500}\n",
      "Gradient Boost (GB) 0.783 (+/-0.039) for {'learning_rate': 0.1, 'max_depth': 5, 'n_estimators': 5}\n",
      "Gradient Boost (GB) 0.795 (+/-0.058) for {'learning_rate': 0.1, 'max_depth': 5, 'n_estimators': 50}\n",
      "Gradient Boost (GB) 0.775 (+/-0.061) for {'learning_rate': 0.1, 'max_depth': 5, 'n_estimators': 250}\n",
      "Gradient Boost (GB) 0.776 (+/-0.054) for {'learning_rate': 0.1, 'max_depth': 5, 'n_estimators': 500}\n",
      "Gradient Boost (GB) 0.797 (+/-0.029) for {'learning_rate': 0.1, 'max_depth': 7, 'n_estimators': 5}\n",
      "Gradient Boost (GB) 0.781 (+/-0.055) for {'learning_rate': 0.1, 'max_depth': 7, 'n_estimators': 50}\n",
      "Gradient Boost (GB) 0.779 (+/-0.036) for {'learning_rate': 0.1, 'max_depth': 7, 'n_estimators': 250}\n",
      "Gradient Boost (GB) 0.771 (+/-0.04) for {'learning_rate': 0.1, 'max_depth': 7, 'n_estimators': 500}\n",
      "Gradient Boost (GB) 0.776 (+/-0.028) for {'learning_rate': 0.1, 'max_depth': 9, 'n_estimators': 5}\n",
      "Gradient Boost (GB) 0.775 (+/-0.044) for {'learning_rate': 0.1, 'max_depth': 9, 'n_estimators': 50}\n",
      "Gradient Boost (GB) 0.775 (+/-0.077) for {'learning_rate': 0.1, 'max_depth': 9, 'n_estimators': 250}\n",
      "Gradient Boost (GB) 0.778 (+/-0.054) for {'learning_rate': 0.1, 'max_depth': 9, 'n_estimators': 500}\n",
      "Gradient Boost (GB) 0.755 (+/-0.115) for {'learning_rate': 1, 'max_depth': 1, 'n_estimators': 5}\n",
      "Gradient Boost (GB) 0.789 (+/-0.074) for {'learning_rate': 1, 'max_depth': 1, 'n_estimators': 50}\n",
      "Gradient Boost (GB) 0.762 (+/-0.07) for {'learning_rate': 1, 'max_depth': 1, 'n_estimators': 250}\n",
      "Gradient Boost (GB) 0.765 (+/-0.067) for {'learning_rate': 1, 'max_depth': 1, 'n_estimators': 500}\n",
      "Gradient Boost (GB) 0.781 (+/-0.074) for {'learning_rate': 1, 'max_depth': 3, 'n_estimators': 5}\n",
      "Gradient Boost (GB) 0.772 (+/-0.064) for {'learning_rate': 1, 'max_depth': 3, 'n_estimators': 50}\n",
      "Gradient Boost (GB) 0.775 (+/-0.06) for {'learning_rate': 1, 'max_depth': 3, 'n_estimators': 250}\n",
      "Gradient Boost (GB) 0.776 (+/-0.042) for {'learning_rate': 1, 'max_depth': 3, 'n_estimators': 500}\n",
      "Gradient Boost (GB) 0.779 (+/-0.079) for {'learning_rate': 1, 'max_depth': 5, 'n_estimators': 5}\n",
      "Gradient Boost (GB) 0.775 (+/-0.08) for {'learning_rate': 1, 'max_depth': 5, 'n_estimators': 50}\n",
      "Gradient Boost (GB) 0.795 (+/-0.017) for {'learning_rate': 1, 'max_depth': 5, 'n_estimators': 250}\n",
      "Gradient Boost (GB) 0.782 (+/-0.056) for {'learning_rate': 1, 'max_depth': 5, 'n_estimators': 500}\n",
      "Gradient Boost (GB) 0.751 (+/-0.065) for {'learning_rate': 1, 'max_depth': 7, 'n_estimators': 5}\n",
      "Gradient Boost (GB) 0.769 (+/-0.065) for {'learning_rate': 1, 'max_depth': 7, 'n_estimators': 50}\n",
      "Gradient Boost (GB) 0.783 (+/-0.069) for {'learning_rate': 1, 'max_depth': 7, 'n_estimators': 250}\n",
      "Gradient Boost (GB) 0.781 (+/-0.05) for {'learning_rate': 1, 'max_depth': 7, 'n_estimators': 500}\n",
      "Gradient Boost (GB) 0.752 (+/-0.051) for {'learning_rate': 1, 'max_depth': 9, 'n_estimators': 5}\n",
      "Gradient Boost (GB) 0.783 (+/-0.056) for {'learning_rate': 1, 'max_depth': 9, 'n_estimators': 50}\n",
      "Gradient Boost (GB) 0.781 (+/-0.033) for {'learning_rate': 1, 'max_depth': 9, 'n_estimators': 250}\n",
      "Gradient Boost (GB) 0.781 (+/-0.06) for {'learning_rate': 1, 'max_depth': 9, 'n_estimators': 500}\n"
     ]
    }
   ],
   "source": [
    "GB_model_dir=os.path.join(currentDirectory,'GB_model.pkl')\n",
    "if os.path.exists(GB_model_dir) == False:\n",
    "    gb = GradientBoostingClassifier()\n",
    "    parameters = {\n",
    "            'n_estimators': [5, 50, 250, 500],\n",
    "            'max_depth': [1, 3, 5, 7, 9],\n",
    "            'learning_rate': [0.01, 0.1, 1]\n",
    "            }\n",
    "    cv=GridSearchCV(gb, parameters, cv=5)\n",
    "    cv.fit(tr_features, tr_labels.values.ravel())\n",
    "    print_results(cv,'Gradient Boost (GB)','GR_GridSearchCV_results.txt')\n",
    "    cv.best_estimator_\n",
    "    GB_model_dir=os.path.join(currentDirectory,'GB_model.pkl')\n",
    "    joblib.dump(cv.best_estimator_,GB_model_dir)\n",
    "else:\n",
    "    print('Already have GB') "
   ]
  },
  {
   "cell_type": "markdown",
   "metadata": {},
   "source": [
    "### 6.1.6 Machine Learning: Models: XGB Model"
   ]
  },
  {
   "cell_type": "code",
   "execution_count": 42,
   "metadata": {},
   "outputs": [
    {
     "name": "stdout",
     "output_type": "stream",
     "text": [
      "XGBClassifier(base_score=0.5, booster='gbtree', colsample_bylevel=1,\n",
      "              colsample_bynode=1, colsample_bytree=1, gamma=0,\n",
      "              learning_rate=0.1, max_delta_step=0, max_depth=3,\n",
      "              min_child_weight=1, missing=None, n_estimators=100, n_jobs=1,\n",
      "              nthread=None, objective='binary:logistic', random_state=0,\n",
      "              reg_alpha=0, reg_lambda=1, scale_pos_weight=1, seed=None,\n",
      "              silent=None, subsample=1, verbosity=1)\n"
     ]
    }
   ],
   "source": [
    "print(XGBClassifier())"
   ]
  },
  {
   "cell_type": "markdown",
   "metadata": {},
   "source": [
    "## eXtreme Gradient Boosting:  \n",
    "### Hyperparameter used in GridSearchCV\n",
    "#### HP1, n_estimators:  (int) – Number of trees to fit.\n",
    "###### Details\n",
    "Usually 500 does the trick and the accuracy and out of bag error doesn't change much after. \n",
    "###### Values chosen\n",
    "'n_estimators': [5, 50, 250, 500],\n",
    "\n",
    "#### HP2, max_depth:  (int) – \n",
    "Maximum tree depth for base learners.\n",
    "###### Details\n",
    "A variety of shallow trees are tested. \n",
    "###### Values chosen\n",
    "'max_depth': [1, 3, 5, 7, 9],\n",
    "\n",
    "#### HP3, learning_rate: (float) – \n",
    "Boosting learning rate (xgb’s “eta”)\n",
    "###### Details\n",
    "A variety was chosen because of the trade-off.\n",
    "###### Values chosen\n",
    "'learning_rate': [0.01, 0.1, 1]"
   ]
  },
  {
   "cell_type": "code",
   "execution_count": 43,
   "metadata": {},
   "outputs": [
    {
     "name": "stdout",
     "output_type": "stream",
     "text": [
      "eXtreme Gradient Boost (XGB)\n",
      "BEST PARAMS: {'learning_rate': 0.1, 'max_depth': 5, 'n_estimators': 50}\n",
      "\n",
      "eXtreme Gradient Boost (XGB) 0.764 (+/-0.068) for {'learning_rate': 0.01, 'max_depth': 1, 'n_estimators': 5}\n",
      "eXtreme Gradient Boost (XGB) 0.772 (+/-0.099) for {'learning_rate': 0.01, 'max_depth': 1, 'n_estimators': 50}\n",
      "eXtreme Gradient Boost (XGB) 0.785 (+/-0.094) for {'learning_rate': 0.01, 'max_depth': 1, 'n_estimators': 250}\n",
      "eXtreme Gradient Boost (XGB) 0.779 (+/-0.086) for {'learning_rate': 0.01, 'max_depth': 1, 'n_estimators': 500}\n",
      "eXtreme Gradient Boost (XGB) 0.782 (+/-0.05) for {'learning_rate': 0.01, 'max_depth': 3, 'n_estimators': 5}\n",
      "eXtreme Gradient Boost (XGB) 0.786 (+/-0.048) for {'learning_rate': 0.01, 'max_depth': 3, 'n_estimators': 50}\n",
      "eXtreme Gradient Boost (XGB) 0.8 (+/-0.069) for {'learning_rate': 0.01, 'max_depth': 3, 'n_estimators': 250}\n",
      "eXtreme Gradient Boost (XGB) 0.788 (+/-0.086) for {'learning_rate': 0.01, 'max_depth': 3, 'n_estimators': 500}\n",
      "eXtreme Gradient Boost (XGB) 0.786 (+/-0.064) for {'learning_rate': 0.01, 'max_depth': 5, 'n_estimators': 5}\n",
      "eXtreme Gradient Boost (XGB) 0.792 (+/-0.066) for {'learning_rate': 0.01, 'max_depth': 5, 'n_estimators': 50}\n",
      "eXtreme Gradient Boost (XGB) 0.809 (+/-0.036) for {'learning_rate': 0.01, 'max_depth': 5, 'n_estimators': 250}\n",
      "eXtreme Gradient Boost (XGB) 0.809 (+/-0.061) for {'learning_rate': 0.01, 'max_depth': 5, 'n_estimators': 500}\n",
      "eXtreme Gradient Boost (XGB) 0.786 (+/-0.051) for {'learning_rate': 0.01, 'max_depth': 7, 'n_estimators': 5}\n",
      "eXtreme Gradient Boost (XGB) 0.789 (+/-0.059) for {'learning_rate': 0.01, 'max_depth': 7, 'n_estimators': 50}\n",
      "eXtreme Gradient Boost (XGB) 0.802 (+/-0.068) for {'learning_rate': 0.01, 'max_depth': 7, 'n_estimators': 250}\n",
      "eXtreme Gradient Boost (XGB) 0.809 (+/-0.085) for {'learning_rate': 0.01, 'max_depth': 7, 'n_estimators': 500}\n",
      "eXtreme Gradient Boost (XGB) 0.789 (+/-0.049) for {'learning_rate': 0.01, 'max_depth': 9, 'n_estimators': 5}\n",
      "eXtreme Gradient Boost (XGB) 0.79 (+/-0.061) for {'learning_rate': 0.01, 'max_depth': 9, 'n_estimators': 50}\n",
      "eXtreme Gradient Boost (XGB) 0.8 (+/-0.072) for {'learning_rate': 0.01, 'max_depth': 9, 'n_estimators': 250}\n",
      "eXtreme Gradient Boost (XGB) 0.807 (+/-0.075) for {'learning_rate': 0.01, 'max_depth': 9, 'n_estimators': 500}\n",
      "eXtreme Gradient Boost (XGB) 0.772 (+/-0.099) for {'learning_rate': 0.1, 'max_depth': 1, 'n_estimators': 5}\n",
      "eXtreme Gradient Boost (XGB) 0.779 (+/-0.083) for {'learning_rate': 0.1, 'max_depth': 1, 'n_estimators': 50}\n",
      "eXtreme Gradient Boost (XGB) 0.793 (+/-0.094) for {'learning_rate': 0.1, 'max_depth': 1, 'n_estimators': 250}\n",
      "eXtreme Gradient Boost (XGB) 0.799 (+/-0.084) for {'learning_rate': 0.1, 'max_depth': 1, 'n_estimators': 500}\n",
      "eXtreme Gradient Boost (XGB) 0.786 (+/-0.048) for {'learning_rate': 0.1, 'max_depth': 3, 'n_estimators': 5}\n",
      "eXtreme Gradient Boost (XGB) 0.795 (+/-0.064) for {'learning_rate': 0.1, 'max_depth': 3, 'n_estimators': 50}\n",
      "eXtreme Gradient Boost (XGB) 0.805 (+/-0.082) for {'learning_rate': 0.1, 'max_depth': 3, 'n_estimators': 250}\n",
      "eXtreme Gradient Boost (XGB) 0.795 (+/-0.069) for {'learning_rate': 0.1, 'max_depth': 3, 'n_estimators': 500}\n",
      "eXtreme Gradient Boost (XGB) 0.788 (+/-0.073) for {'learning_rate': 0.1, 'max_depth': 5, 'n_estimators': 5}\n",
      "eXtreme Gradient Boost (XGB) 0.816 (+/-0.064) for {'learning_rate': 0.1, 'max_depth': 5, 'n_estimators': 50}\n",
      "eXtreme Gradient Boost (XGB) 0.805 (+/-0.081) for {'learning_rate': 0.1, 'max_depth': 5, 'n_estimators': 250}\n",
      "eXtreme Gradient Boost (XGB) 0.796 (+/-0.067) for {'learning_rate': 0.1, 'max_depth': 5, 'n_estimators': 500}\n",
      "eXtreme Gradient Boost (XGB) 0.788 (+/-0.049) for {'learning_rate': 0.1, 'max_depth': 7, 'n_estimators': 5}\n",
      "eXtreme Gradient Boost (XGB) 0.81 (+/-0.079) for {'learning_rate': 0.1, 'max_depth': 7, 'n_estimators': 50}\n",
      "eXtreme Gradient Boost (XGB) 0.79 (+/-0.065) for {'learning_rate': 0.1, 'max_depth': 7, 'n_estimators': 250}\n",
      "eXtreme Gradient Boost (XGB) 0.789 (+/-0.055) for {'learning_rate': 0.1, 'max_depth': 7, 'n_estimators': 500}\n",
      "eXtreme Gradient Boost (XGB) 0.789 (+/-0.054) for {'learning_rate': 0.1, 'max_depth': 9, 'n_estimators': 5}\n",
      "eXtreme Gradient Boost (XGB) 0.81 (+/-0.084) for {'learning_rate': 0.1, 'max_depth': 9, 'n_estimators': 50}\n",
      "eXtreme Gradient Boost (XGB) 0.789 (+/-0.047) for {'learning_rate': 0.1, 'max_depth': 9, 'n_estimators': 250}\n",
      "eXtreme Gradient Boost (XGB) 0.786 (+/-0.059) for {'learning_rate': 0.1, 'max_depth': 9, 'n_estimators': 500}\n",
      "eXtreme Gradient Boost (XGB) 0.761 (+/-0.092) for {'learning_rate': 1, 'max_depth': 1, 'n_estimators': 5}\n",
      "eXtreme Gradient Boost (XGB) 0.789 (+/-0.074) for {'learning_rate': 1, 'max_depth': 1, 'n_estimators': 50}\n",
      "eXtreme Gradient Boost (XGB) 0.776 (+/-0.073) for {'learning_rate': 1, 'max_depth': 1, 'n_estimators': 250}\n",
      "eXtreme Gradient Boost (XGB) 0.781 (+/-0.076) for {'learning_rate': 1, 'max_depth': 1, 'n_estimators': 500}\n",
      "eXtreme Gradient Boost (XGB) 0.802 (+/-0.068) for {'learning_rate': 1, 'max_depth': 3, 'n_estimators': 5}\n",
      "eXtreme Gradient Boost (XGB) 0.792 (+/-0.078) for {'learning_rate': 1, 'max_depth': 3, 'n_estimators': 50}\n",
      "eXtreme Gradient Boost (XGB) 0.771 (+/-0.045) for {'learning_rate': 1, 'max_depth': 3, 'n_estimators': 250}\n",
      "eXtreme Gradient Boost (XGB) 0.774 (+/-0.035) for {'learning_rate': 1, 'max_depth': 3, 'n_estimators': 500}\n",
      "eXtreme Gradient Boost (XGB) 0.788 (+/-0.067) for {'learning_rate': 1, 'max_depth': 5, 'n_estimators': 5}\n",
      "eXtreme Gradient Boost (XGB) 0.781 (+/-0.035) for {'learning_rate': 1, 'max_depth': 5, 'n_estimators': 50}\n",
      "eXtreme Gradient Boost (XGB) 0.783 (+/-0.024) for {'learning_rate': 1, 'max_depth': 5, 'n_estimators': 250}\n",
      "eXtreme Gradient Boost (XGB) 0.785 (+/-0.031) for {'learning_rate': 1, 'max_depth': 5, 'n_estimators': 500}\n",
      "eXtreme Gradient Boost (XGB) 0.79 (+/-0.059) for {'learning_rate': 1, 'max_depth': 7, 'n_estimators': 5}\n",
      "eXtreme Gradient Boost (XGB) 0.783 (+/-0.021) for {'learning_rate': 1, 'max_depth': 7, 'n_estimators': 50}\n",
      "eXtreme Gradient Boost (XGB) 0.783 (+/-0.025) for {'learning_rate': 1, 'max_depth': 7, 'n_estimators': 250}\n",
      "eXtreme Gradient Boost (XGB) 0.786 (+/-0.024) for {'learning_rate': 1, 'max_depth': 7, 'n_estimators': 500}\n",
      "eXtreme Gradient Boost (XGB) 0.79 (+/-0.054) for {'learning_rate': 1, 'max_depth': 9, 'n_estimators': 5}\n",
      "eXtreme Gradient Boost (XGB) 0.782 (+/-0.064) for {'learning_rate': 1, 'max_depth': 9, 'n_estimators': 50}\n",
      "eXtreme Gradient Boost (XGB) 0.792 (+/-0.053) for {'learning_rate': 1, 'max_depth': 9, 'n_estimators': 250}\n",
      "eXtreme Gradient Boost (XGB) 0.789 (+/-0.047) for {'learning_rate': 1, 'max_depth': 9, 'n_estimators': 500}\n"
     ]
    }
   ],
   "source": [
    "XGB_model_dir=os.path.join(currentDirectory,'XGB_model.pkl')\n",
    "if os.path.exists(XGB_model_dir) == False:\n",
    "    xgb = XGBClassifier()\n",
    "    parameters = {\n",
    "            'n_estimators': [5, 50, 250, 500],\n",
    "            'max_depth': [1, 3, 5, 7, 9],\n",
    "            'learning_rate': [0.01, 0.1, 1]\n",
    "            }\n",
    "    cv=GridSearchCV(xgb, parameters, cv=5)\n",
    "    cv.fit(tr_features, tr_labels.values.ravel())\n",
    "    print_results(cv,'eXtreme Gradient Boost (XGB)','XGB_GridSearchCV_results.txt')\n",
    "    cv.best_estimator_\n",
    "    XGB_model_dir=os.path.join(currentDirectory,'XGB_model.pkl')\n",
    "    joblib.dump(cv.best_estimator_,XGB_model_dir)\n",
    "else:\n",
    "    print('Already have XGB')  "
   ]
  },
  {
   "cell_type": "markdown",
   "metadata": {},
   "source": [
    "## 6.2 Machine Learning: Evaluate Models\n"
   ]
  },
  {
   "cell_type": "code",
   "execution_count": 44,
   "metadata": {},
   "outputs": [],
   "source": [
    "## all models\n",
    "models = {}\n",
    "\n",
    "#for mdl in ['LR', 'SVM', 'MLP', 'RF', 'GB','XGB']:\n",
    "for mdl in ['LR', 'SVM', 'MLP', 'RF', 'GB','XGB']:\n",
    "    model_path=os.path.join(currentDirectory,'{}_model.pkl')\n",
    "    models[mdl] = joblib.load(model_path.format(mdl))"
   ]
  },
  {
   "cell_type": "markdown",
   "metadata": {},
   "source": [
    "#### Function:  evaluate_model"
   ]
  },
  {
   "cell_type": "code",
   "execution_count": 45,
   "metadata": {},
   "outputs": [],
   "source": [
    "def evaluate_model(name, model, features, labels):\n",
    "        start = time()\n",
    "        pred = model.predict(features)\n",
    "        end = time()\n",
    "        accuracy = round(accuracy_score(labels, pred), 3)\n",
    "        precision = round(precision_score(labels, pred), 3)\n",
    "        recall = round(recall_score(labels, pred), 3)\n",
    "        print('{} -- Accuracy: {} / Precision: {} / Recall: {} / Latency: {}ms'.format(name,\n",
    "                                                                                       accuracy,\n",
    "                                                                                       precision,\n",
    "                                                                                       recall,\n",
    "                                                                                       round((end - start)*1000, 1)))\n",
    "        return accuracy,name, model\n"
   ]
  },
  {
   "cell_type": "markdown",
   "metadata": {},
   "source": [
    "# Search for best model"
   ]
  },
  {
   "cell_type": "code",
   "execution_count": 46,
   "metadata": {
    "scrolled": true
   },
   "outputs": [
    {
     "name": "stdout",
     "output_type": "stream",
     "text": [
      "LR -- Accuracy: 0.826 / Precision: 0.741 / Recall: 0.729 / Latency: 1.5ms\n",
      "SVM -- Accuracy: 0.843 / Precision: 0.772 / Recall: 0.746 / Latency: 2.5ms\n",
      "MLP -- Accuracy: 0.848 / Precision: 0.767 / Recall: 0.78 / Latency: 2.1ms\n",
      "RF -- Accuracy: 0.854 / Precision: 0.789 / Recall: 0.763 / Latency: 62.9ms\n",
      "GB -- Accuracy: 0.848 / Precision: 0.796 / Recall: 0.729 / Latency: 3.0ms\n",
      "XGB -- Accuracy: 0.86 / Precision: 0.804 / Recall: 0.763 / Latency: 2.9ms\n",
      "Best Model: XGB with Accuracy of  0.86\n"
     ]
    },
    {
     "data": {
      "image/png": "[encoded data removed]",
      "text/plain": [
       "<Figure size 432x288 with 1 Axes>"
      ]
     },
     "metadata": {
      "needs_background": "light"
     },
     "output_type": "display_data"
    }
   ],
   "source": [
    "ev_accuracy=[None]*len(models)\n",
    "ev_name=[None]*len(models)\n",
    "ev_model=[None]*len(models)\n",
    "count=0\n",
    "for name, mdl in models.items():\n",
    "        ev_accuracy[count],ev_name[count],ev_model[count] = evaluate_model(name,mdl,val_features, val_labels)\n",
    "        count=count+1\n",
    "best_name=ev_name[ev_accuracy.index(max(ev_accuracy))]    #picks the maximum accuracy\n",
    "print('Best Model:',best_name,'with Accuracy of ',max(ev_accuracy))   \n",
    "best_model=ev_model[ev_accuracy.index(max(ev_accuracy))]    #picks the maximum accuracy\n",
    "\n",
    "if best_name == 'RF' or best_name == 'GB' or best_name == 'XGB':\n",
    "    # Get numerical feature importances\n",
    "    importances = list(best_model.feature_importances_)\n",
    "    importances=100*(importances/max(importances))\n",
    "    feature_list = list(features.columns)\n",
    "    \n",
    "    sorted_ID=np.argsort(importances)\n",
    "    def sort_list(list1, list2): \n",
    "        zipped_pairs = zip(list2, list1)   \n",
    "        z = [x for _, x in sorted(zipped_pairs)]       \n",
    "        return z \n",
    "    \n",
    "    plt.figure()\n",
    "    plt.barh(sort_list(feature_list,importances),importances[sorted_ID],align='center')\n",
    "    plt.title('Figure 4:  Variable Importance Plot -- {}'.format(best_name))\n",
    "    plt.xlabel('Relative Importance')\n",
    "    plt.ylabel('Feature') \n",
    "    plt.savefig('Figure4.png',dpi=300,bbox_inches='tight')\n",
    "    plt.show()\n",
    "else:\n",
    "    print('Best model does not have feature importance')       \n"
   ]
  },
  {
   "cell_type": "markdown",
   "metadata": {},
   "source": [
    "All of the models were similar, therefore only the highest accuracy model was chosen.  The variable importance plot shows the feature importance, which is similar to the intensities of the heatmaps previously. "
   ]
  },
  {
   "cell_type": "markdown",
   "metadata": {},
   "source": [
    "# 6.3 Machine Learning: Predict with Best Model"
   ]
  },
  {
   "cell_type": "markdown",
   "metadata": {},
   "source": [
    "#### Function:  predict_model"
   ]
  },
  {
   "cell_type": "code",
   "execution_count": 47,
   "metadata": {},
   "outputs": [],
   "source": [
    "def predict_model(name, model, features):\n",
    "    pred = model.predict(features)\n",
    "    return pred"
   ]
  },
  {
   "cell_type": "code",
   "execution_count": 48,
   "metadata": {},
   "outputs": [],
   "source": [
    "for name, mdl in models.items():\n",
    "        y_pred=predict_model(best_name,mdl,pd.DataFrame(test_clean))\n",
    "y_pred=pd.DataFrame(y_pred)\n",
    "test=pd.read_csv('/kaggle/input/titanic/test.csv')\n",
    "#test=os.path.join(currentDirectory,'test.csv')\n",
    "#test=pd.read_csv(test)\n",
    "test.head(10) #notice Survival is NOT provided for test dataset\n",
    "Kaggle_Submission=test\n",
    "Kaggle_Submission['Survived']=y_pred.astype(int)\n",
    "Kaggle_Submission=Kaggle_Submission[['PassengerId','Survived']]"
   ]
  },
  {
   "cell_type": "markdown",
   "metadata": {},
   "source": [
    "# Code Objective 7: Export Results for Kaggle Competition "
   ]
  },
  {
   "cell_type": "code",
   "execution_count": 49,
   "metadata": {},
   "outputs": [],
   "source": [
    "Kaggle_Submission_path=os.path.join(currentDirectory,'Kaggle_Submission_Steven_Smiley.csv')\n",
    "Kaggle_Submission.to_csv(Kaggle_Submission_path,index=False)"
   ]
  }
 ],
 "metadata": {
  "kernelspec": {
   "display_name": "Python 3",
   "language": "python",
   "name": "python3"
  },
  "language_info": {
   "codemirror_mode": {
    "name": "ipython",
    "version": 3
   },
   "file_extension": ".py",
   "mimetype": "text/x-python",
   "name": "python",
   "nbconvert_exporter": "python",
   "pygments_lexer": "ipython3",
   "version": "3.6.6"
  }
 },
 "nbformat": 4,
 "nbformat_minor": 1
}
